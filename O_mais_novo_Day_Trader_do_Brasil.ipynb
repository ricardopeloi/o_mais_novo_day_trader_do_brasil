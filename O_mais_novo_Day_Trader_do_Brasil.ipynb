{
  "cells": [
    {
      "cell_type": "markdown",
      "metadata": {
        "colab_type": "text",
        "id": "view-in-github"
      },
      "source": [
        "<a href=\"https://colab.research.google.com/github/ricardopeloi/o_mais_novo_day_trader_do_brasil/blob/main/O_mais_novo_Day_Trader_do_Brasil.ipynb\" target=\"_parent\"><img src=\"https://colab.research.google.com/assets/colab-badge.svg\" alt=\"Open In Colab\"/></a>"
      ]
    },
    {
      "cell_type": "markdown",
      "metadata": {
        "id": "w6L8evvkKQ1P"
      },
      "source": [
        "# [CONFIG] Instalações e pacotes"
      ]
    },
    {
      "cell_type": "markdown",
      "metadata": {
        "id": "h8cmJMpgKQ1U"
      },
      "source": [
        "## Básicos (numpy, pandas, math, display, locale, time, random, re)"
      ]
    },
    {
      "cell_type": "code",
      "execution_count": 1,
      "metadata": {
        "id": "b3LEQ-bVKQ1V"
      },
      "outputs": [
        {
          "name": "stdout",
          "output_type": "stream",
          "text": [
            "Defaulting to user installation because normal site-packages is not writeable\n",
            "Requirement already satisfied: ipykernel in c:\\users\\ricardopeloi\\appdata\\roaming\\python\\python312\\site-packages (6.29.4)\n",
            "Requirement already satisfied: comm>=0.1.1 in c:\\users\\ricardopeloi\\appdata\\roaming\\python\\python312\\site-packages (from ipykernel) (0.2.2)\n",
            "Requirement already satisfied: debugpy>=1.6.5 in c:\\users\\ricardopeloi\\appdata\\roaming\\python\\python312\\site-packages (from ipykernel) (1.8.1)\n",
            "Requirement already satisfied: ipython>=7.23.1 in c:\\users\\ricardopeloi\\appdata\\roaming\\python\\python312\\site-packages (from ipykernel) (8.23.0)\n",
            "Requirement already satisfied: jupyter-client>=6.1.12 in c:\\users\\ricardopeloi\\appdata\\roaming\\python\\python312\\site-packages (from ipykernel) (8.6.1)\n",
            "Requirement already satisfied: jupyter-core!=5.0.*,>=4.12 in c:\\users\\ricardopeloi\\appdata\\roaming\\python\\python312\\site-packages (from ipykernel) (5.7.2)\n",
            "Requirement already satisfied: matplotlib-inline>=0.1 in c:\\users\\ricardopeloi\\appdata\\roaming\\python\\python312\\site-packages (from ipykernel) (0.1.6)\n",
            "Requirement already satisfied: nest-asyncio in c:\\users\\ricardopeloi\\appdata\\roaming\\python\\python312\\site-packages (from ipykernel) (1.6.0)\n",
            "Requirement already satisfied: packaging in c:\\users\\ricardopeloi\\appdata\\roaming\\python\\python312\\site-packages (from ipykernel) (24.0)\n",
            "Requirement already satisfied: psutil in c:\\users\\ricardopeloi\\appdata\\roaming\\python\\python312\\site-packages (from ipykernel) (5.9.8)\n",
            "Requirement already satisfied: pyzmq>=24 in c:\\users\\ricardopeloi\\appdata\\roaming\\python\\python312\\site-packages (from ipykernel) (25.1.2)\n",
            "Requirement already satisfied: tornado>=6.1 in c:\\users\\ricardopeloi\\appdata\\roaming\\python\\python312\\site-packages (from ipykernel) (6.4)\n",
            "Requirement already satisfied: traitlets>=5.4.0 in c:\\users\\ricardopeloi\\appdata\\roaming\\python\\python312\\site-packages (from ipykernel) (5.14.2)\n",
            "Requirement already satisfied: decorator in c:\\users\\ricardopeloi\\appdata\\roaming\\python\\python312\\site-packages (from ipython>=7.23.1->ipykernel) (5.1.1)\n",
            "Requirement already satisfied: jedi>=0.16 in c:\\users\\ricardopeloi\\appdata\\roaming\\python\\python312\\site-packages (from ipython>=7.23.1->ipykernel) (0.19.1)\n",
            "Requirement already satisfied: prompt-toolkit<3.1.0,>=3.0.41 in c:\\users\\ricardopeloi\\appdata\\roaming\\python\\python312\\site-packages (from ipython>=7.23.1->ipykernel) (3.0.43)\n",
            "Requirement already satisfied: pygments>=2.4.0 in c:\\users\\ricardopeloi\\appdata\\roaming\\python\\python312\\site-packages (from ipython>=7.23.1->ipykernel) (2.17.2)\n",
            "Requirement already satisfied: stack-data in c:\\users\\ricardopeloi\\appdata\\roaming\\python\\python312\\site-packages (from ipython>=7.23.1->ipykernel) (0.6.3)\n",
            "Requirement already satisfied: colorama in c:\\users\\ricardopeloi\\appdata\\roaming\\python\\python312\\site-packages (from ipython>=7.23.1->ipykernel) (0.4.6)\n",
            "Requirement already satisfied: python-dateutil>=2.8.2 in c:\\users\\ricardopeloi\\appdata\\roaming\\python\\python312\\site-packages (from jupyter-client>=6.1.12->ipykernel) (2.9.0.post0)\n",
            "Requirement already satisfied: platformdirs>=2.5 in c:\\users\\ricardopeloi\\appdata\\roaming\\python\\python312\\site-packages (from jupyter-core!=5.0.*,>=4.12->ipykernel) (4.2.0)\n",
            "Requirement already satisfied: pywin32>=300 in c:\\users\\ricardopeloi\\appdata\\roaming\\python\\python312\\site-packages (from jupyter-core!=5.0.*,>=4.12->ipykernel) (306)\n",
            "Requirement already satisfied: parso<0.9.0,>=0.8.3 in c:\\users\\ricardopeloi\\appdata\\roaming\\python\\python312\\site-packages (from jedi>=0.16->ipython>=7.23.1->ipykernel) (0.8.3)\n",
            "Requirement already satisfied: wcwidth in c:\\users\\ricardopeloi\\appdata\\roaming\\python\\python312\\site-packages (from prompt-toolkit<3.1.0,>=3.0.41->ipython>=7.23.1->ipykernel) (0.2.13)\n",
            "Requirement already satisfied: six>=1.5 in c:\\users\\ricardopeloi\\appdata\\roaming\\python\\python312\\site-packages (from python-dateutil>=2.8.2->jupyter-client>=6.1.12->ipykernel) (1.16.0)\n",
            "Requirement already satisfied: executing>=1.2.0 in c:\\users\\ricardopeloi\\appdata\\roaming\\python\\python312\\site-packages (from stack-data->ipython>=7.23.1->ipykernel) (2.0.1)\n",
            "Requirement already satisfied: asttokens>=2.1.0 in c:\\users\\ricardopeloi\\appdata\\roaming\\python\\python312\\site-packages (from stack-data->ipython>=7.23.1->ipykernel) (2.4.1)\n",
            "Requirement already satisfied: pure-eval in c:\\users\\ricardopeloi\\appdata\\roaming\\python\\python312\\site-packages (from stack-data->ipython>=7.23.1->ipykernel) (0.2.2)\n"
          ]
        }
      ],
      "source": [
        "# !python -m pip install jupyter\n",
        "!python -m pip install ipykernel\n",
        "\n",
        "# !python -m pip install IPython\n",
        "from IPython.display import display\n",
        "\n",
        "import math\n",
        "\n",
        "# !python -m pip install numpy\n",
        "import numpy as np\n",
        "\n",
        "import locale\n",
        "# locale.setlocale(locale.LC_ALL, \"pt_BR.UTF-8\")  # Use \"\" for auto, or force e.g. to \"en_US.UTF-8\"\n",
        "\n",
        "import time\n",
        "from datetime import datetime, timedelta, date\n",
        "\n",
        "# # !python -m pip install random\n",
        "import random\n",
        "random.seed(42)"
      ]
    },
    {
      "cell_type": "markdown",
      "metadata": {},
      "source": [
        "## Leitura e análise de dados (Excel, Pandas, Spark)"
      ]
    },
    {
      "cell_type": "code",
      "execution_count": 2,
      "metadata": {},
      "outputs": [],
      "source": [
        "# !python -m pip install findspark\n",
        "\n",
        "# !python -m pip install openpyxl\n",
        "# !python -m pip install xlsxwriter\n",
        "# !python -m pip install xlrd\n",
        "# import openpyxl\n",
        "# import xlsxwriter\n",
        "\n",
        "# !python -m pip install pandas\n",
        "import pandas as pd\n",
        "pd.options.display.float_format = '{:,.2f}'.format\n",
        "# pd.set_option('display.float_format', lambda x: '%.2f' % x)"
      ]
    },
    {
      "cell_type": "markdown",
      "metadata": {
        "id": "aslLJe3aKQ1V"
      },
      "source": [
        "## Visualização (matplotlib, seaborn, plotly)"
      ]
    },
    {
      "cell_type": "code",
      "execution_count": 3,
      "metadata": {
        "colab": {
          "base_uri": "https://localhost:8080/"
        },
        "id": "loIhxW_GKQ1V",
        "outputId": "eec112a2-09ab-4ef6-abd9-ecbdb82ad3b6"
      },
      "outputs": [],
      "source": [
        "# !python -m pip install matplotlib\n",
        "import matplotlib.pyplot as plt\n",
        "import matplotlib.dates as mdates\n",
        "from matplotlib import ticker\n",
        "from matplotlib.ticker import FormatStrFormatter, StrMethodFormatter\n",
        "\n",
        "# !python -m pip install seaborn\n",
        "import seaborn as sns\n",
        "\n",
        "# !python -m pip install plotly\n",
        "import plotly.graph_objects as go\n",
        "# import plotly.express as px\n",
        "from plotly.subplots import make_subplots"
      ]
    },
    {
      "cell_type": "markdown",
      "metadata": {
        "id": "oV2iw70DKQ1X"
      },
      "source": [
        "## Séries temporais (statsmodels, Prophet)"
      ]
    },
    {
      "cell_type": "code",
      "execution_count": 4,
      "metadata": {
        "id": "tUlEQBRIKQ1X"
      },
      "outputs": [
        {
          "name": "stdout",
          "output_type": "stream",
          "text": [
            "Defaulting to user installation because normal site-packages is not writeable\n",
            "Collecting statsmodels\n",
            "  Downloading statsmodels-0.14.2-cp312-cp312-win_amd64.whl.metadata (9.5 kB)\n",
            "Requirement already satisfied: numpy>=1.22.3 in c:\\users\\ricardopeloi\\appdata\\roaming\\python\\python312\\site-packages (from statsmodels) (1.26.4)\n",
            "Collecting scipy!=1.9.2,>=1.8 (from statsmodels)\n",
            "  Downloading scipy-1.13.1-cp312-cp312-win_amd64.whl.metadata (60 kB)\n",
            "     ---------------------------------------- 0.0/60.6 kB ? eta -:--:--\n",
            "     ---------------------------------------- 60.6/60.6 kB 3.1 MB/s eta 0:00:00\n",
            "Requirement already satisfied: pandas!=2.1.0,>=1.4 in c:\\users\\ricardopeloi\\appdata\\roaming\\python\\python312\\site-packages (from statsmodels) (2.2.1)\n",
            "Collecting patsy>=0.5.6 (from statsmodels)\n",
            "  Using cached patsy-0.5.6-py2.py3-none-any.whl.metadata (3.5 kB)\n",
            "Requirement already satisfied: packaging>=21.3 in c:\\users\\ricardopeloi\\appdata\\roaming\\python\\python312\\site-packages (from statsmodels) (24.0)\n",
            "Requirement already satisfied: python-dateutil>=2.8.2 in c:\\users\\ricardopeloi\\appdata\\roaming\\python\\python312\\site-packages (from pandas!=2.1.0,>=1.4->statsmodels) (2.9.0.post0)\n",
            "Requirement already satisfied: pytz>=2020.1 in c:\\users\\ricardopeloi\\appdata\\roaming\\python\\python312\\site-packages (from pandas!=2.1.0,>=1.4->statsmodels) (2024.1)\n",
            "Requirement already satisfied: tzdata>=2022.7 in c:\\users\\ricardopeloi\\appdata\\roaming\\python\\python312\\site-packages (from pandas!=2.1.0,>=1.4->statsmodels) (2024.1)\n",
            "Requirement already satisfied: six in c:\\users\\ricardopeloi\\appdata\\roaming\\python\\python312\\site-packages (from patsy>=0.5.6->statsmodels) (1.16.0)\n",
            "Downloading statsmodels-0.14.2-cp312-cp312-win_amd64.whl (9.8 MB)\n",
            "   ---------------------------------------- 0.0/9.8 MB ? eta -:--:--\n",
            "   - -------------------------------------- 0.4/9.8 MB 12.8 MB/s eta 0:00:01\n",
            "   --- ------------------------------------ 0.9/9.8 MB 10.8 MB/s eta 0:00:01\n",
            "   ----- ---------------------------------- 1.3/9.8 MB 10.5 MB/s eta 0:00:01\n",
            "   ------- -------------------------------- 1.9/9.8 MB 11.1 MB/s eta 0:00:01\n",
            "   ---------- ----------------------------- 2.5/9.8 MB 11.5 MB/s eta 0:00:01\n",
            "   ------------ --------------------------- 3.1/9.8 MB 11.5 MB/s eta 0:00:01\n",
            "   -------------- ------------------------- 3.6/9.8 MB 11.5 MB/s eta 0:00:01\n",
            "   ----------------- ---------------------- 4.3/9.8 MB 11.8 MB/s eta 0:00:01\n",
            "   ------------------- -------------------- 4.8/9.8 MB 11.9 MB/s eta 0:00:01\n",
            "   --------------------- ------------------ 5.4/9.8 MB 12.2 MB/s eta 0:00:01\n",
            "   ------------------------ --------------- 5.9/9.8 MB 12.2 MB/s eta 0:00:01\n",
            "   -------------------------- ------------- 6.4/9.8 MB 11.7 MB/s eta 0:00:01\n",
            "   ---------------------------- ----------- 7.0/9.8 MB 11.8 MB/s eta 0:00:01\n",
            "   ------------------------------ --------- 7.5/9.8 MB 12.0 MB/s eta 0:00:01\n",
            "   -------------------------------- ------- 8.1/9.8 MB 12.0 MB/s eta 0:00:01\n",
            "   ----------------------------------- ---- 8.7/9.8 MB 12.1 MB/s eta 0:00:01\n",
            "   ------------------------------------- -- 9.3/9.8 MB 12.1 MB/s eta 0:00:01\n",
            "   ---------------------------------------  9.8/9.8 MB 12.0 MB/s eta 0:00:01\n",
            "   ---------------------------------------  9.8/9.8 MB 12.1 MB/s eta 0:00:01\n",
            "   ---------------------------------------  9.8/9.8 MB 12.1 MB/s eta 0:00:01\n",
            "   ---------------------------------------  9.8/9.8 MB 10.8 MB/s eta 0:00:01\n",
            "   ---------------------------------------- 9.8/9.8 MB 10.5 MB/s eta 0:00:00\n",
            "Using cached patsy-0.5.6-py2.py3-none-any.whl (233 kB)\n",
            "Downloading scipy-1.13.1-cp312-cp312-win_amd64.whl (45.9 MB)\n",
            "   ---------------------------------------- 0.0/45.9 MB ? eta -:--:--\n",
            "   ---------------------------------------- 0.5/45.9 MB 10.7 MB/s eta 0:00:05\n",
            "    --------------------------------------- 1.0/45.9 MB 11.0 MB/s eta 0:00:05\n",
            "   - -------------------------------------- 1.5/45.9 MB 11.9 MB/s eta 0:00:04\n",
            "   - -------------------------------------- 2.1/45.9 MB 12.1 MB/s eta 0:00:04\n",
            "   -- ------------------------------------- 2.8/45.9 MB 12.6 MB/s eta 0:00:04\n",
            "   -- ------------------------------------- 3.4/45.9 MB 12.7 MB/s eta 0:00:04\n",
            "   --- ------------------------------------ 4.1/45.9 MB 12.4 MB/s eta 0:00:04\n",
            "   ---- ----------------------------------- 4.6/45.9 MB 12.3 MB/s eta 0:00:04\n",
            "   ---- ----------------------------------- 5.2/45.9 MB 12.4 MB/s eta 0:00:04\n",
            "   ----- ---------------------------------- 5.8/45.9 MB 12.3 MB/s eta 0:00:04\n",
            "   ----- ---------------------------------- 6.4/45.9 MB 12.4 MB/s eta 0:00:04\n",
            "   ------ --------------------------------- 7.0/45.9 MB 12.2 MB/s eta 0:00:04\n",
            "   ------ --------------------------------- 7.6/45.9 MB 12.2 MB/s eta 0:00:04\n",
            "   ------- -------------------------------- 8.1/45.9 MB 12.3 MB/s eta 0:00:04\n",
            "   ------- -------------------------------- 8.4/45.9 MB 12.0 MB/s eta 0:00:04\n",
            "   ------- -------------------------------- 8.9/45.9 MB 11.6 MB/s eta 0:00:04\n",
            "   -------- ------------------------------- 9.5/45.9 MB 11.6 MB/s eta 0:00:04\n",
            "   -------- ------------------------------- 10.1/45.9 MB 11.7 MB/s eta 0:00:04\n",
            "   --------- ------------------------------ 10.7/45.9 MB 11.9 MB/s eta 0:00:03\n",
            "   --------- ------------------------------ 11.4/45.9 MB 11.9 MB/s eta 0:00:03\n",
            "   ---------- ----------------------------- 11.9/45.9 MB 11.9 MB/s eta 0:00:03\n",
            "   ---------- ----------------------------- 12.5/45.9 MB 11.9 MB/s eta 0:00:03\n",
            "   ----------- ---------------------------- 13.1/45.9 MB 11.7 MB/s eta 0:00:03\n",
            "   ----------- ---------------------------- 13.8/45.9 MB 11.7 MB/s eta 0:00:03\n",
            "   ------------ --------------------------- 14.4/45.9 MB 11.7 MB/s eta 0:00:03\n",
            "   ------------- -------------------------- 15.1/45.9 MB 11.9 MB/s eta 0:00:03\n",
            "   ------------- -------------------------- 15.7/45.9 MB 11.9 MB/s eta 0:00:03\n",
            "   -------------- ------------------------- 16.3/45.9 MB 11.9 MB/s eta 0:00:03\n",
            "   -------------- ------------------------- 17.0/45.9 MB 11.9 MB/s eta 0:00:03\n",
            "   --------------- ------------------------ 17.6/45.9 MB 11.9 MB/s eta 0:00:03\n",
            "   --------------- ------------------------ 18.4/45.9 MB 12.4 MB/s eta 0:00:03\n",
            "   ---------------- ----------------------- 19.0/45.9 MB 12.6 MB/s eta 0:00:03\n",
            "   ----------------- ---------------------- 19.7/45.9 MB 12.8 MB/s eta 0:00:03\n",
            "   ----------------- ---------------------- 20.2/45.9 MB 12.8 MB/s eta 0:00:03\n",
            "   ------------------ --------------------- 20.9/45.9 MB 12.8 MB/s eta 0:00:02\n",
            "   ------------------ --------------------- 21.5/45.9 MB 12.8 MB/s eta 0:00:02\n",
            "   ------------------- -------------------- 22.2/45.9 MB 12.8 MB/s eta 0:00:02\n",
            "   ------------------- -------------------- 22.9/45.9 MB 12.8 MB/s eta 0:00:02\n",
            "   -------------------- ------------------- 23.6/45.9 MB 13.1 MB/s eta 0:00:02\n",
            "   --------------------- ------------------ 24.3/45.9 MB 13.1 MB/s eta 0:00:02\n",
            "   --------------------- ------------------ 24.9/45.9 MB 13.4 MB/s eta 0:00:02\n",
            "   ---------------------- ----------------- 25.5/45.9 MB 13.4 MB/s eta 0:00:02\n",
            "   ---------------------- ----------------- 26.1/45.9 MB 12.8 MB/s eta 0:00:02\n",
            "   ----------------------- ---------------- 26.8/45.9 MB 13.1 MB/s eta 0:00:02\n",
            "   ----------------------- ---------------- 27.5/45.9 MB 13.1 MB/s eta 0:00:02\n",
            "   ------------------------ --------------- 28.0/45.9 MB 13.1 MB/s eta 0:00:02\n",
            "   ------------------------ --------------- 28.7/45.9 MB 12.8 MB/s eta 0:00:02\n",
            "   ------------------------- -------------- 29.4/45.9 MB 12.8 MB/s eta 0:00:02\n",
            "   -------------------------- ------------- 30.1/45.9 MB 12.9 MB/s eta 0:00:02\n",
            "   -------------------------- ------------- 30.8/45.9 MB 13.4 MB/s eta 0:00:02\n",
            "   --------------------------- ------------ 31.4/45.9 MB 13.4 MB/s eta 0:00:02\n",
            "   --------------------------- ------------ 32.0/45.9 MB 13.1 MB/s eta 0:00:02\n",
            "   ---------------------------- ----------- 32.6/45.9 MB 12.8 MB/s eta 0:00:02\n",
            "   ---------------------------- ----------- 33.1/45.9 MB 12.9 MB/s eta 0:00:01\n",
            "   ----------------------------- ---------- 33.8/45.9 MB 12.8 MB/s eta 0:00:01\n",
            "   ----------------------------- ---------- 34.3/45.9 MB 12.6 MB/s eta 0:00:01\n",
            "   ------------------------------ --------- 35.0/45.9 MB 12.6 MB/s eta 0:00:01\n",
            "   ------------------------------- -------- 35.6/45.9 MB 12.3 MB/s eta 0:00:01\n",
            "   ------------------------------- -------- 36.2/45.9 MB 12.6 MB/s eta 0:00:01\n",
            "   -------------------------------- ------- 36.9/45.9 MB 12.8 MB/s eta 0:00:01\n",
            "   -------------------------------- ------- 37.6/45.9 MB 12.8 MB/s eta 0:00:01\n",
            "   --------------------------------- ------ 38.2/45.9 MB 12.8 MB/s eta 0:00:01\n",
            "   --------------------------------- ------ 38.8/45.9 MB 12.6 MB/s eta 0:00:01\n",
            "   ---------------------------------- ----- 39.1/45.9 MB 12.6 MB/s eta 0:00:01\n",
            "   ---------------------------------- ----- 39.6/45.9 MB 12.4 MB/s eta 0:00:01\n",
            "   ----------------------------------- ---- 40.3/45.9 MB 12.3 MB/s eta 0:00:01\n",
            "   ----------------------------------- ---- 40.8/45.9 MB 11.9 MB/s eta 0:00:01\n",
            "   ------------------------------------ --- 41.5/45.9 MB 12.1 MB/s eta 0:00:01\n",
            "   ------------------------------------ --- 42.1/45.9 MB 12.1 MB/s eta 0:00:01\n",
            "   ------------------------------------- -- 42.9/45.9 MB 12.4 MB/s eta 0:00:01\n",
            "   ------------------------------------- -- 43.5/45.9 MB 12.6 MB/s eta 0:00:01\n",
            "   -------------------------------------- - 44.2/45.9 MB 12.6 MB/s eta 0:00:01\n",
            "   ---------------------------------------  44.8/45.9 MB 12.6 MB/s eta 0:00:01\n",
            "   ---------------------------------------  45.4/45.9 MB 12.6 MB/s eta 0:00:01\n",
            "   ---------------------------------------  45.9/45.9 MB 12.6 MB/s eta 0:00:01\n",
            "   ---------------------------------------  45.9/45.9 MB 12.6 MB/s eta 0:00:01\n",
            "   ---------------------------------------  45.9/45.9 MB 12.6 MB/s eta 0:00:01\n",
            "   ---------------------------------------  45.9/45.9 MB 12.6 MB/s eta 0:00:01\n",
            "   ---------------------------------------- 45.9/45.9 MB 10.2 MB/s eta 0:00:00\n",
            "Installing collected packages: scipy, patsy, statsmodels\n",
            "Successfully installed patsy-0.5.6 scipy-1.13.1 statsmodels-0.14.2\n",
            "Defaulting to user installation because normal site-packages is not writeable\n",
            "Requirement already satisfied: prophet in c:\\users\\ricardopeloi\\appdata\\roaming\\python\\python312\\site-packages (1.1.5)\n",
            "Requirement already satisfied: cmdstanpy>=1.0.4 in c:\\users\\ricardopeloi\\appdata\\roaming\\python\\python312\\site-packages (from prophet) (1.2.2)\n",
            "Requirement already satisfied: numpy>=1.15.4 in c:\\users\\ricardopeloi\\appdata\\roaming\\python\\python312\\site-packages (from prophet) (1.26.4)\n",
            "Requirement already satisfied: matplotlib>=2.0.0 in c:\\users\\ricardopeloi\\appdata\\roaming\\python\\python312\\site-packages (from prophet) (3.8.3)\n",
            "Requirement already satisfied: pandas>=1.0.4 in c:\\users\\ricardopeloi\\appdata\\roaming\\python\\python312\\site-packages (from prophet) (2.2.1)\n",
            "Requirement already satisfied: holidays>=0.25 in c:\\users\\ricardopeloi\\appdata\\roaming\\python\\python312\\site-packages (from prophet) (0.46)\n",
            "Requirement already satisfied: tqdm>=4.36.1 in c:\\users\\ricardopeloi\\appdata\\roaming\\python\\python312\\site-packages (from prophet) (4.66.2)\n",
            "Requirement already satisfied: importlib-resources in c:\\users\\ricardopeloi\\appdata\\roaming\\python\\python312\\site-packages (from prophet) (6.4.0)\n",
            "Requirement already satisfied: stanio<2.0.0,>=0.4.0 in c:\\users\\ricardopeloi\\appdata\\roaming\\python\\python312\\site-packages (from cmdstanpy>=1.0.4->prophet) (0.5.0)\n",
            "Requirement already satisfied: python-dateutil in c:\\users\\ricardopeloi\\appdata\\roaming\\python\\python312\\site-packages (from holidays>=0.25->prophet) (2.9.0.post0)\n",
            "Requirement already satisfied: contourpy>=1.0.1 in c:\\users\\ricardopeloi\\appdata\\roaming\\python\\python312\\site-packages (from matplotlib>=2.0.0->prophet) (1.2.1)\n",
            "Requirement already satisfied: cycler>=0.10 in c:\\users\\ricardopeloi\\appdata\\roaming\\python\\python312\\site-packages (from matplotlib>=2.0.0->prophet) (0.12.1)\n",
            "Requirement already satisfied: fonttools>=4.22.0 in c:\\users\\ricardopeloi\\appdata\\roaming\\python\\python312\\site-packages (from matplotlib>=2.0.0->prophet) (4.50.0)\n",
            "Requirement already satisfied: kiwisolver>=1.3.1 in c:\\users\\ricardopeloi\\appdata\\roaming\\python\\python312\\site-packages (from matplotlib>=2.0.0->prophet) (1.4.5)\n",
            "Requirement already satisfied: packaging>=20.0 in c:\\users\\ricardopeloi\\appdata\\roaming\\python\\python312\\site-packages (from matplotlib>=2.0.0->prophet) (24.0)\n",
            "Requirement already satisfied: pillow>=8 in c:\\users\\ricardopeloi\\appdata\\roaming\\python\\python312\\site-packages (from matplotlib>=2.0.0->prophet) (10.3.0)\n",
            "Requirement already satisfied: pyparsing>=2.3.1 in c:\\users\\ricardopeloi\\appdata\\roaming\\python\\python312\\site-packages (from matplotlib>=2.0.0->prophet) (3.1.2)\n",
            "Requirement already satisfied: pytz>=2020.1 in c:\\users\\ricardopeloi\\appdata\\roaming\\python\\python312\\site-packages (from pandas>=1.0.4->prophet) (2024.1)\n",
            "Requirement already satisfied: tzdata>=2022.7 in c:\\users\\ricardopeloi\\appdata\\roaming\\python\\python312\\site-packages (from pandas>=1.0.4->prophet) (2024.1)\n",
            "Requirement already satisfied: colorama in c:\\users\\ricardopeloi\\appdata\\roaming\\python\\python312\\site-packages (from tqdm>=4.36.1->prophet) (0.4.6)\n",
            "Requirement already satisfied: six>=1.5 in c:\\users\\ricardopeloi\\appdata\\roaming\\python\\python312\\site-packages (from python-dateutil->holidays>=0.25->prophet) (1.16.0)\n"
          ]
        },
        {
          "name": "stderr",
          "output_type": "stream",
          "text": [
            "C:\\Users\\ricardopeloi\\AppData\\Roaming\\Python\\Python312\\site-packages\\tqdm\\auto.py:21: TqdmWarning: IProgress not found. Please update jupyter and ipywidgets. See https://ipywidgets.readthedocs.io/en/stable/user_install.html\n",
            "  from .autonotebook import tqdm as notebook_tqdm\n"
          ]
        }
      ],
      "source": [
        "!python -m pip install statsmodels\n",
        "from statsmodels.tsa.seasonal import seasonal_decompose\n",
        "\n",
        "!python -m pip install prophet\n",
        "from prophet import Prophet"
      ]
    },
    {
      "cell_type": "markdown",
      "metadata": {
        "id": "PJx0rzF1KQ1X"
      },
      "source": [
        "## Finanças (yfinance, mplfinance)"
      ]
    },
    {
      "cell_type": "code",
      "execution_count": 5,
      "metadata": {
        "colab": {
          "base_uri": "https://localhost:8080/"
        },
        "id": "ykbkE6nMKQ1X",
        "outputId": "e75b212c-6623-4806-f6b0-c06b05a60d7a"
      },
      "outputs": [
        {
          "name": "stdout",
          "output_type": "stream",
          "text": [
            "Defaulting to user installation because normal site-packages is not writeable\n",
            "Requirement already satisfied: yfinance in c:\\users\\ricardopeloi\\appdata\\roaming\\python\\python312\\site-packages (0.2.37)\n",
            "Requirement already satisfied: pandas>=1.3.0 in c:\\users\\ricardopeloi\\appdata\\roaming\\python\\python312\\site-packages (from yfinance) (2.2.1)\n",
            "Requirement already satisfied: numpy>=1.16.5 in c:\\users\\ricardopeloi\\appdata\\roaming\\python\\python312\\site-packages (from yfinance) (1.26.4)\n",
            "Requirement already satisfied: requests>=2.31 in c:\\users\\ricardopeloi\\appdata\\roaming\\python\\python312\\site-packages (from yfinance) (2.31.0)\n",
            "Requirement already satisfied: multitasking>=0.0.7 in c:\\users\\ricardopeloi\\appdata\\roaming\\python\\python312\\site-packages (from yfinance) (0.0.11)\n",
            "Requirement already satisfied: lxml>=4.9.1 in c:\\users\\ricardopeloi\\appdata\\roaming\\python\\python312\\site-packages (from yfinance) (5.2.1)\n",
            "Requirement already satisfied: appdirs>=1.4.4 in c:\\users\\ricardopeloi\\appdata\\roaming\\python\\python312\\site-packages (from yfinance) (1.4.4)\n",
            "Requirement already satisfied: pytz>=2022.5 in c:\\users\\ricardopeloi\\appdata\\roaming\\python\\python312\\site-packages (from yfinance) (2024.1)\n",
            "Requirement already satisfied: frozendict>=2.3.4 in c:\\users\\ricardopeloi\\appdata\\roaming\\python\\python312\\site-packages (from yfinance) (2.4.1)\n",
            "Requirement already satisfied: peewee>=3.16.2 in c:\\users\\ricardopeloi\\appdata\\roaming\\python\\python312\\site-packages (from yfinance) (3.17.1)\n",
            "Requirement already satisfied: beautifulsoup4>=4.11.1 in c:\\users\\ricardopeloi\\appdata\\roaming\\python\\python312\\site-packages (from yfinance) (4.12.3)\n",
            "Requirement already satisfied: html5lib>=1.1 in c:\\users\\ricardopeloi\\appdata\\roaming\\python\\python312\\site-packages (from yfinance) (1.1)\n",
            "Requirement already satisfied: soupsieve>1.2 in c:\\users\\ricardopeloi\\appdata\\roaming\\python\\python312\\site-packages (from beautifulsoup4>=4.11.1->yfinance) (2.5)\n",
            "Requirement already satisfied: six>=1.9 in c:\\users\\ricardopeloi\\appdata\\roaming\\python\\python312\\site-packages (from html5lib>=1.1->yfinance) (1.16.0)\n",
            "Requirement already satisfied: webencodings in c:\\users\\ricardopeloi\\appdata\\roaming\\python\\python312\\site-packages (from html5lib>=1.1->yfinance) (0.5.1)\n",
            "Requirement already satisfied: python-dateutil>=2.8.2 in c:\\users\\ricardopeloi\\appdata\\roaming\\python\\python312\\site-packages (from pandas>=1.3.0->yfinance) (2.9.0.post0)\n",
            "Requirement already satisfied: tzdata>=2022.7 in c:\\users\\ricardopeloi\\appdata\\roaming\\python\\python312\\site-packages (from pandas>=1.3.0->yfinance) (2024.1)\n",
            "Requirement already satisfied: charset-normalizer<4,>=2 in c:\\users\\ricardopeloi\\appdata\\roaming\\python\\python312\\site-packages (from requests>=2.31->yfinance) (3.3.2)\n",
            "Requirement already satisfied: idna<4,>=2.5 in c:\\users\\ricardopeloi\\appdata\\roaming\\python\\python312\\site-packages (from requests>=2.31->yfinance) (3.6)\n",
            "Requirement already satisfied: urllib3<3,>=1.21.1 in c:\\users\\ricardopeloi\\appdata\\roaming\\python\\python312\\site-packages (from requests>=2.31->yfinance) (2.2.1)\n",
            "Requirement already satisfied: certifi>=2017.4.17 in c:\\users\\ricardopeloi\\appdata\\roaming\\python\\python312\\site-packages (from requests>=2.31->yfinance) (2024.2.2)\n",
            "Defaulting to user installation because normal site-packages is not writeable\n",
            "Requirement already satisfied: mplfinance in c:\\users\\ricardopeloi\\appdata\\roaming\\python\\python312\\site-packages (0.12.10b0)\n",
            "Requirement already satisfied: matplotlib in c:\\users\\ricardopeloi\\appdata\\roaming\\python\\python312\\site-packages (from mplfinance) (3.8.3)\n",
            "Requirement already satisfied: pandas in c:\\users\\ricardopeloi\\appdata\\roaming\\python\\python312\\site-packages (from mplfinance) (2.2.1)\n",
            "Requirement already satisfied: contourpy>=1.0.1 in c:\\users\\ricardopeloi\\appdata\\roaming\\python\\python312\\site-packages (from matplotlib->mplfinance) (1.2.1)\n",
            "Requirement already satisfied: cycler>=0.10 in c:\\users\\ricardopeloi\\appdata\\roaming\\python\\python312\\site-packages (from matplotlib->mplfinance) (0.12.1)\n",
            "Requirement already satisfied: fonttools>=4.22.0 in c:\\users\\ricardopeloi\\appdata\\roaming\\python\\python312\\site-packages (from matplotlib->mplfinance) (4.50.0)\n",
            "Requirement already satisfied: kiwisolver>=1.3.1 in c:\\users\\ricardopeloi\\appdata\\roaming\\python\\python312\\site-packages (from matplotlib->mplfinance) (1.4.5)\n",
            "Requirement already satisfied: numpy<2,>=1.21 in c:\\users\\ricardopeloi\\appdata\\roaming\\python\\python312\\site-packages (from matplotlib->mplfinance) (1.26.4)\n",
            "Requirement already satisfied: packaging>=20.0 in c:\\users\\ricardopeloi\\appdata\\roaming\\python\\python312\\site-packages (from matplotlib->mplfinance) (24.0)\n",
            "Requirement already satisfied: pillow>=8 in c:\\users\\ricardopeloi\\appdata\\roaming\\python\\python312\\site-packages (from matplotlib->mplfinance) (10.3.0)\n",
            "Requirement already satisfied: pyparsing>=2.3.1 in c:\\users\\ricardopeloi\\appdata\\roaming\\python\\python312\\site-packages (from matplotlib->mplfinance) (3.1.2)\n",
            "Requirement already satisfied: python-dateutil>=2.7 in c:\\users\\ricardopeloi\\appdata\\roaming\\python\\python312\\site-packages (from matplotlib->mplfinance) (2.9.0.post0)\n",
            "Requirement already satisfied: pytz>=2020.1 in c:\\users\\ricardopeloi\\appdata\\roaming\\python\\python312\\site-packages (from pandas->mplfinance) (2024.1)\n",
            "Requirement already satisfied: tzdata>=2022.7 in c:\\users\\ricardopeloi\\appdata\\roaming\\python\\python312\\site-packages (from pandas->mplfinance) (2024.1)\n",
            "Requirement already satisfied: six>=1.5 in c:\\users\\ricardopeloi\\appdata\\roaming\\python\\python312\\site-packages (from python-dateutil>=2.7->matplotlib->mplfinance) (1.16.0)\n"
          ]
        }
      ],
      "source": [
        "# https://pypi.org/project/yfinance/\n",
        "# https://github.com/ranaroussi/yfinance/wiki/Ticker\n",
        "\n",
        "!python -m pip install yfinance\n",
        "import yfinance as yf\n",
        "\n",
        "!python -m pip install mplfinance\n",
        "import mplfinance as mpf\n",
        "\n",
        "# # Em R\n",
        "# # https://cran.r-project.org/web/packages/BatchGetSymbols/index.html"
      ]
    },
    {
      "cell_type": "markdown",
      "metadata": {
        "id": "e89ZzvJC0B_E"
      },
      "source": [
        "## Leitura de dados em sites e APIs (Beautiful Soup e requests)"
      ]
    },
    {
      "cell_type": "code",
      "execution_count": 6,
      "metadata": {
        "id": "VUcp02Wz0D15"
      },
      "outputs": [],
      "source": [
        "# !python -m pip install BeautifulSoup\n",
        "from bs4 import BeautifulSoup\n",
        "\n",
        "# !python -m pip install requests\n",
        "import requests"
      ]
    },
    {
      "cell_type": "markdown",
      "metadata": {},
      "source": [
        "## Regresão (sklearn)"
      ]
    },
    {
      "cell_type": "code",
      "execution_count": 10,
      "metadata": {},
      "outputs": [
        {
          "name": "stdout",
          "output_type": "stream",
          "text": [
            "Defaulting to user installation because normal site-packages is not writeable\n",
            "Collecting scikit-learn\n",
            "  Downloading scikit_learn-1.5.0-cp312-cp312-win_amd64.whl.metadata (11 kB)\n",
            "Requirement already satisfied: numpy>=1.19.5 in c:\\users\\ricardopeloi\\appdata\\roaming\\python\\python312\\site-packages (from scikit-learn) (1.26.4)\n",
            "Requirement already satisfied: scipy>=1.6.0 in c:\\users\\ricardopeloi\\appdata\\roaming\\python\\python312\\site-packages (from scikit-learn) (1.13.1)\n",
            "Collecting joblib>=1.2.0 (from scikit-learn)\n",
            "  Downloading joblib-1.4.2-py3-none-any.whl.metadata (5.4 kB)\n",
            "Collecting threadpoolctl>=3.1.0 (from scikit-learn)\n",
            "  Downloading threadpoolctl-3.5.0-py3-none-any.whl.metadata (13 kB)\n",
            "Downloading scikit_learn-1.5.0-cp312-cp312-win_amd64.whl (10.9 MB)\n",
            "   ---------------------------------------- 0.0/10.9 MB ? eta -:--:--\n",
            "   - -------------------------------------- 0.3/10.9 MB 10.6 MB/s eta 0:00:02\n",
            "   -- ------------------------------------- 0.7/10.9 MB 7.5 MB/s eta 0:00:02\n",
            "   ---- ----------------------------------- 1.1/10.9 MB 7.8 MB/s eta 0:00:02\n",
            "   ----- ---------------------------------- 1.5/10.9 MB 7.9 MB/s eta 0:00:02\n",
            "   ------- -------------------------------- 2.0/10.9 MB 8.6 MB/s eta 0:00:02\n",
            "   --------- ------------------------------ 2.6/10.9 MB 9.3 MB/s eta 0:00:01\n",
            "   ----------- ---------------------------- 3.2/10.9 MB 9.8 MB/s eta 0:00:01\n",
            "   ------------- -------------------------- 3.7/10.9 MB 9.7 MB/s eta 0:00:01\n",
            "   --------------- ------------------------ 4.4/10.9 MB 10.0 MB/s eta 0:00:01\n",
            "   ------------------ --------------------- 5.0/10.9 MB 10.4 MB/s eta 0:00:01\n",
            "   -------------------- ------------------- 5.7/10.9 MB 10.7 MB/s eta 0:00:01\n",
            "   ---------------------- ----------------- 6.2/10.9 MB 10.6 MB/s eta 0:00:01\n",
            "   ------------------------- -------------- 6.8/10.9 MB 10.9 MB/s eta 0:00:01\n",
            "   --------------------------- ------------ 7.5/10.9 MB 11.4 MB/s eta 0:00:01\n",
            "   ----------------------------- ---------- 8.2/10.9 MB 11.6 MB/s eta 0:00:01\n",
            "   -------------------------------- ------- 8.8/10.9 MB 11.5 MB/s eta 0:00:01\n",
            "   ---------------------------------- ----- 9.5/10.9 MB 11.7 MB/s eta 0:00:01\n",
            "   ------------------------------------- -- 10.2/10.9 MB 11.8 MB/s eta 0:00:01\n",
            "   ---------------------------------------  10.8/10.9 MB 12.4 MB/s eta 0:00:01\n",
            "   ---------------------------------------  10.9/10.9 MB 12.4 MB/s eta 0:00:01\n",
            "   ---------------------------------------- 10.9/10.9 MB 11.7 MB/s eta 0:00:00\n",
            "Downloading joblib-1.4.2-py3-none-any.whl (301 kB)\n",
            "   ---------------------------------------- 0.0/301.8 kB ? eta -:--:--\n",
            "   ---------------------------------------- 301.8/301.8 kB 9.4 MB/s eta 0:00:00\n",
            "Downloading threadpoolctl-3.5.0-py3-none-any.whl (18 kB)\n",
            "Installing collected packages: threadpoolctl, joblib, scikit-learn\n",
            "Successfully installed joblib-1.4.2 scikit-learn-1.5.0 threadpoolctl-3.5.0\n"
          ]
        }
      ],
      "source": [
        "!python -m pip install scikit-learn\n",
        "\n",
        "from sklearn.linear_model import LinearRegression"
      ]
    },
    {
      "cell_type": "markdown",
      "metadata": {
        "id": "2dK9485Ncqi5"
      },
      "source": [
        "## Drive (para ler e escrever arquivos)"
      ]
    },
    {
      "cell_type": "code",
      "execution_count": null,
      "metadata": {
        "colab": {
          "base_uri": "https://localhost:8080/"
        },
        "id": "8uS8PyBtctGO",
        "outputId": "9b27598b-af41-4f38-c531-26970ddc8b08"
      },
      "outputs": [
        {
          "name": "stdout",
          "output_type": "stream",
          "text": [
            "Você não está no Colab!\n"
          ]
        }
      ],
      "source": [
        "try:\n",
        "    # PARA A LEITURA DOS DADOS EM PLANILHA DE SHEETS\n",
        "    # https://stackoverflow.com/questions/71686960/typeerror-credentials-need-to-be-from-either-oauth2client-or-from-google-auth\n",
        "    from google.colab import drive\n",
        "    from google.colab import auth\n",
        "    # !pip install gspread\n",
        "    import gspread\n",
        "    from google.auth import default\n",
        "    creds, _ = default()\n",
        "\n",
        "    auth.authenticate_user()\n",
        "    gc = gspread.authorize(creds)\n",
        "    drive.mount('/content/drive')\n",
        "\n",
        "    esta_no_colab = True\n",
        "\n",
        "except:\n",
        "    print(\"Você não está no Colab!\")\n",
        "\n",
        "    esta_no_colab = False"
      ]
    },
    {
      "cell_type": "markdown",
      "metadata": {
        "id": "2HMuimxfR-0Y"
      },
      "source": [
        "# Funções"
      ]
    },
    {
      "cell_type": "markdown",
      "metadata": {
        "id": "ij70Y4AsSAHp"
      },
      "source": [
        "## Regressão linear com pontos de uma ação"
      ]
    },
    {
      "cell_type": "code",
      "execution_count": null,
      "metadata": {
        "id": "LaolAtTFSECZ"
      },
      "outputs": [],
      "source": [
        "def criar_regressao_bd_acao(\n",
        "  bd_acao,\n",
        "  coluna = \"Close\",\n",
        "  print_variaveis = False,\n",
        "  plot_grafico = False,\n",
        "  tamanho_figsize = (10,5),\n",
        "  rotacao = 45,\n",
        "  titulo = \"Pontos no fechamento da ação\",\n",
        "  var_pular_final_de_semana_feriados = False,\n",
        "):\n",
        "  # bd_acao\n",
        "\n",
        "  bd_acao_coluna = bd_acao.reset_index()[[bd_acao.index.name, coluna]]\n",
        "  # bd_acao_coluna\n",
        "\n",
        "  # from sklearn.linear_model import LinearRegression\n",
        "\n",
        "  X = bd_acao_coluna.reset_index()[\"index\"].array.reshape(-1, 1)\n",
        "  y = bd_acao_coluna.loc[:, coluna].array.reshape(-1, 1)\n",
        "\n",
        "  modelo_linear = LinearRegression()\n",
        "  modelo_linear.fit(X, y)\n",
        "\n",
        "  bd_acao_coluna.loc[:, \"Regressão\"] = modelo_linear.predict(X)\n",
        "  # bd_acao_fim\n",
        "\n",
        "  desvio_padrao = bd_acao_coluna[coluna].std()\n",
        "  media = bd_acao_coluna[coluna].mean()\n",
        "  alfa = modelo_linear.coef_[0][0]\n",
        "  valor_fechamento = bd_acao_coluna.sort_index(ascending = False).iloc[0][coluna]\n",
        "\n",
        "  # margem = 0.005\n",
        "  margem = desvio_padrao/media\n",
        "\n",
        "  if print_variaveis == True:\n",
        "    display(\"Média: \" + \"{:.4f}\".format(media))\n",
        "    display(\"Desvio padrão: \" + \"{:.4f}\".format(desvio_padrao))\n",
        "    display(\"Desvio padrão (%): \" + \"{:.4f}\".format(margem))\n",
        "    display(\"Inclinação da reta (alfa, coeficiente angular): \" + \"{:.4f}\".format(alfa))\n",
        "    display(\"Valor de fechamento (R$): \" + \"{:.2f}\".format(valor_fechamento))\n",
        "\n",
        "\n",
        "  if plot_grafico == True:\n",
        "    plt.figure(figsize = tamanho_figsize)\n",
        "\n",
        "    ax = plt.gca()\n",
        "\n",
        "    if var_pular_final_de_semana_feriados == True:\n",
        "      ax.xaxis.set_major_locator(ticker.LinearLocator(len(bd_acao_coluna)))\n",
        "      # ax.xaxis.set_major_formatter(mdates.ConciseDateFormatter(ax.xaxis.get_major_locator()))\n",
        "      # ax.xaxis.set_major_formatter(mdates.DateFormatter(fmt = \"%d/%m/%y\"))\n",
        "\n",
        "      plt.xticks(rotation = rotacao)\n",
        "\n",
        "      plt.scatter(x = bd_acao_coluna[bd_acao.index.name].dt.strftime(\"%d/%m/%y\").astype(str), y = coluna, data = bd_acao_coluna, edgecolors='black', facecolors='none')\n",
        "\n",
        "      plt.plot(bd_acao_coluna[bd_acao.index.name].dt.strftime(\"%d/%m/%y\").astype(str), bd_acao_coluna[\"Regressão\"]-desvio_padrao, color = \"blue\", linestyle='dashed')\n",
        "      plt.plot(bd_acao_coluna[bd_acao.index.name].dt.strftime(\"%d/%m/%y\").astype(str), bd_acao_coluna[\"Regressão\"], color='green')\n",
        "      plt.plot(bd_acao_coluna[bd_acao.index.name].dt.strftime(\"%d/%m/%y\").astype(str), bd_acao_coluna[\"Regressão\"]+desvio_padrao, color = \"blue\", linestyle='dashed')\n",
        "\n",
        "      # ax.xaxis.set_major_formatter(mdates.DateFormatter(fmt = \"%d/%m/%y\"))\n",
        "      # ax.xaxis.set_major_formatter(mdates.ConciseDateFormatter(ax.xaxis.get_major_locator()))\n",
        "\n",
        "    else:\n",
        "      ax.xaxis.set_major_formatter(mdates.ConciseDateFormatter(ax.xaxis.get_major_locator()))\n",
        "\n",
        "      plt.xticks(bd_acao_coluna[bd_acao.index.name], rotation = rotacao)\n",
        "\n",
        "      plt.scatter(x = bd_acao_coluna[bd_acao.index.name], y = coluna, data = bd_acao_coluna, edgecolors='black', facecolors='none')\n",
        "\n",
        "      plt.plot(bd_acao_coluna[bd_acao.index.name], bd_acao_coluna[\"Regressão\"]-desvio_padrao, color = \"blue\", linestyle='dashed')\n",
        "      plt.plot(bd_acao_coluna[bd_acao.index.name], bd_acao_coluna[\"Regressão\"], color='green')\n",
        "      plt.plot(bd_acao_coluna[bd_acao.index.name], bd_acao_coluna[\"Regressão\"]+desvio_padrao, color = \"blue\", linestyle='dashed')\n",
        "\n",
        "\n",
        "    plt.title(titulo)\n",
        "    plt.show()\n",
        "\n",
        "  return [bd_acao_coluna, media, desvio_padrao, modelo_linear, valor_fechamento]"
      ]
    },
    {
      "cell_type": "markdown",
      "metadata": {
        "id": "3l6b8gKe8g2y"
      },
      "source": [
        "## Candle plot no Plotly (análise de ações)"
      ]
    },
    {
      "cell_type": "code",
      "execution_count": null,
      "metadata": {},
      "outputs": [],
      "source": [
        "def candle_plot(\n",
        "    dados,\n",
        "    volume = True,\n",
        "    mav = np.nan,\n",
        "    colors = [\"orange\", \"yellow\", \"blue\"],\n",
        "    titulo = \"\",\n",
        "    ):\n",
        "\n",
        "  if volume == True:\n",
        "    fig = make_subplots(\n",
        "        rows = 2,\n",
        "        cols = 1,\n",
        "        shared_xaxes = True,\n",
        "        vertical_spacing = 0.1,\n",
        "        subplot_titles = (\"Candlesticks\", \"Volume transacionado\"),\n",
        "        row_width = [0.2, 0.7]\n",
        "    )\n",
        "  else:\n",
        "    fig = make_subplots(\n",
        "        rows = 1,\n",
        "        cols = 1,\n",
        "        shared_xaxes = True,\n",
        "        vertical_spacing = 0.1,\n",
        "        subplot_titles = (\"Candlesticks\"),\n",
        "        row_width = [0.2, 0.7]\n",
        "    )\n",
        "\n",
        "  fig.add_trace(go.Candlestick(x=dados.index,\n",
        "                      open = dados['Open'],\n",
        "                      high = dados['High'],\n",
        "                      low = dados['Low'],\n",
        "                      close = dados['Close']),\n",
        "                row = 1, col = 1)\n",
        "\n",
        "  if mav is not np.nan:\n",
        "    for i in range(len(mav)):\n",
        "      # print(i)\n",
        "      dados[\"Close \"+ str(mav[i]) +\" dias\"] = dados[\"Close\"].rolling(window=mav[i]).mean()\n",
        "      fig.add_trace(go.Scatter(x=dados.index,\n",
        "                          y = dados[\"Close \"+ str(mav[i]) +\" dias\"],\n",
        "                          mode = \"lines\",\n",
        "                          name = \"Média móvel fechamento \" + str(mav[i]) + \" dias\",\n",
        "                          marker=dict(color=colors[i])),\n",
        "                    row = 1, col = 1)\n",
        "\n",
        "  if volume == True:\n",
        "    fig.add_trace(go.Bar(x=dados.head(60).index,\n",
        "                        y = dados['Volume'],\n",
        "                        name = \"Volume\"),\n",
        "                  row = 2, col = 1)\n",
        "\n",
        "\n",
        "  fig.update_layout(\n",
        "      yaxis_title = \"Preço\",\n",
        "      xaxis_rangeslider_visible=False,\n",
        "      title=titulo,\n",
        "      )\n",
        "\n",
        "  fig.show()\n",
        "\n",
        "# candle_plot(\n",
        "#     dados = dados_candle_matp_media_movel.head(60),\n",
        "#     volume = True,\n",
        "#     mav = [7,14],\n",
        "#     # colors = [\"orange\", \"yellow\", \"blue\"],\n",
        "#     titulo = \"PETR4.SA\",\n",
        "#     )"
      ]
    },
    {
      "cell_type": "markdown",
      "metadata": {
        "id": "oAg_J1drpn0T"
      },
      "source": [
        "# Variáveis globais"
      ]
    },
    {
      "cell_type": "markdown",
      "metadata": {
        "id": "oiieuLtVpppQ"
      },
      "source": [
        "## Caminho da pasta"
      ]
    },
    {
      "cell_type": "code",
      "execution_count": null,
      "metadata": {
        "id": "4MVNrPlLppNR"
      },
      "outputs": [
        {
          "data": {
            "text/plain": [
              "'G:/My Drive/Trabalho/Investimentos/'"
            ]
          },
          "metadata": {},
          "output_type": "display_data"
        }
      ],
      "source": [
        "if esta_no_colab == True:\n",
        "    caminho_da_pasta = '/content/drive/My Drive/Trabalho/Investimentos/'\n",
        "\n",
        "else:\n",
        "    caminho_da_pasta = \"G:/My Drive/Trabalho/Investimentos/\"\n",
        "\n",
        "display(caminho_da_pasta)"
      ]
    },
    {
      "cell_type": "markdown",
      "metadata": {
        "id": "SlrAp_pVp_y2"
      },
      "source": [
        "## Ler e escrever na pasta"
      ]
    },
    {
      "cell_type": "code",
      "execution_count": null,
      "metadata": {
        "id": "KIl3cXxAqBCG"
      },
      "outputs": [],
      "source": [
        "# ler_dados_da_pasta = True\n",
        "ler_dados_da_pasta = False\n",
        "\n",
        "if ler_dados_da_pasta == True:\n",
        "  if esta_no_colab == True:\n",
        "    gc = gspread.authorize(creds)\n",
        "    drive.mount('/content/drive')"
      ]
    },
    {
      "cell_type": "markdown",
      "metadata": {
        "id": "HY7isfEjKQ1h"
      },
      "source": [
        "# Leitura"
      ]
    },
    {
      "cell_type": "markdown",
      "metadata": {
        "id": "0ItkeUbU85rr"
      },
      "source": [
        "## Lista completa de ações da B3"
      ]
    },
    {
      "cell_type": "code",
      "execution_count": null,
      "metadata": {
        "colab": {
          "base_uri": "https://localhost:8080/",
          "height": 423
        },
        "id": "JWCNcEuWxWkc",
        "outputId": "7900fba0-49a7-4119-947d-09fbc2d1d6d6"
      },
      "outputs": [
        {
          "data": {
            "text/html": [
              "<div>\n",
              "<style scoped>\n",
              "    .dataframe tbody tr th:only-of-type {\n",
              "        vertical-align: middle;\n",
              "    }\n",
              "\n",
              "    .dataframe tbody tr th {\n",
              "        vertical-align: top;\n",
              "    }\n",
              "\n",
              "    .dataframe thead th {\n",
              "        text-align: right;\n",
              "    }\n",
              "</style>\n",
              "<table border=\"1\" class=\"dataframe\">\n",
              "  <thead>\n",
              "    <tr style=\"text-align: right;\">\n",
              "      <th></th>\n",
              "      <th>Nome da Empresa</th>\n",
              "      <th>Ticker</th>\n",
              "      <th>Volume no último dia útil (lido em 05/05/2024)</th>\n",
              "    </tr>\n",
              "  </thead>\n",
              "  <tbody>\n",
              "    <tr>\n",
              "      <th>0</th>\n",
              "      <td>Magazine Luiza</td>\n",
              "      <td>MGLU3</td>\n",
              "      <td>173204700</td>\n",
              "    </tr>\n",
              "    <tr>\n",
              "      <th>1</th>\n",
              "      <td>B3</td>\n",
              "      <td>B3SA3</td>\n",
              "      <td>90899800</td>\n",
              "    </tr>\n",
              "    <tr>\n",
              "      <th>2</th>\n",
              "      <td>Banco Bradesco</td>\n",
              "      <td>BBDC4</td>\n",
              "      <td>61128700</td>\n",
              "    </tr>\n",
              "    <tr>\n",
              "      <th>3</th>\n",
              "      <td>Hapvida</td>\n",
              "      <td>HAPV3</td>\n",
              "      <td>49296700</td>\n",
              "    </tr>\n",
              "    <tr>\n",
              "      <th>4</th>\n",
              "      <td>Petrobras</td>\n",
              "      <td>PETR4</td>\n",
              "      <td>45092300</td>\n",
              "    </tr>\n",
              "    <tr>\n",
              "      <th>...</th>\n",
              "      <td>...</td>\n",
              "      <td>...</td>\n",
              "      <td>...</td>\n",
              "    </tr>\n",
              "    <tr>\n",
              "      <th>397</th>\n",
              "      <td>WLM</td>\n",
              "      <td>WLMM3</td>\n",
              "      <td>100</td>\n",
              "    </tr>\n",
              "    <tr>\n",
              "      <th>398</th>\n",
              "      <td>Usiminas</td>\n",
              "      <td>USIM6</td>\n",
              "      <td>500</td>\n",
              "    </tr>\n",
              "    <tr>\n",
              "      <th>399</th>\n",
              "      <td>Josapar</td>\n",
              "      <td>JOPA3</td>\n",
              "      <td>100</td>\n",
              "    </tr>\n",
              "    <tr>\n",
              "      <th>400</th>\n",
              "      <td>Karsten</td>\n",
              "      <td>CTKA3</td>\n",
              "      <td>100</td>\n",
              "    </tr>\n",
              "    <tr>\n",
              "      <th>401</th>\n",
              "      <td>Banco do Nordeste</td>\n",
              "      <td>BNBR3</td>\n",
              "      <td>100</td>\n",
              "    </tr>\n",
              "  </tbody>\n",
              "</table>\n",
              "<p>402 rows × 3 columns</p>\n",
              "</div>"
            ],
            "text/plain": [
              "       Nome da Empresa Ticker  Volume no último dia útil (lido em 05/05/2024)\n",
              "0       Magazine Luiza  MGLU3                                       173204700\n",
              "1                   B3  B3SA3                                        90899800\n",
              "2       Banco Bradesco  BBDC4                                        61128700\n",
              "3              Hapvida  HAPV3                                        49296700\n",
              "4            Petrobras  PETR4                                        45092300\n",
              "..                 ...    ...                                             ...\n",
              "397                WLM  WLMM3                                             100\n",
              "398           Usiminas  USIM6                                             500\n",
              "399            Josapar  JOPA3                                             100\n",
              "400            Karsten  CTKA3                                             100\n",
              "401  Banco do Nordeste  BNBR3                                             100\n",
              "\n",
              "[402 rows x 3 columns]"
            ]
          },
          "execution_count": 28,
          "metadata": {},
          "output_type": "execute_result"
        }
      ],
      "source": [
        "if ler_dados_da_pasta == False:\n",
        "  url = \"https://www.dadosdemercado.com.br/bolsa/acoes\"\n",
        "  response = requests.get(url)\n",
        "\n",
        "  # Create a BeautifulSoup object with the HTML content\n",
        "  soup = BeautifulSoup(response.content, 'html.parser')\n",
        "  # soup\n",
        "\n",
        "\n",
        "  soup_tabela_acoes = soup.find('div', class_='table-container').find_all(\"tr\")\n",
        "  lista_acoes = []\n",
        "  # data_de_hoje = \"Volume em \" + datetime.now().strftime(\"%d/%m/%Y\")\n",
        "  data_de_hoje = \"Volume no último dia útil (lido em \" + datetime.now().strftime(\"%d/%m/%Y\") + \")\"\n",
        "\n",
        "  for soup_acao in soup_tabela_acoes:\n",
        "    # print(\"\")\n",
        "    try:\n",
        "      lista_acoes.append({\n",
        "          \"Nome da Empresa\": soup_acao.find_all(\"td\")[1].text.strip(),\n",
        "          \"Ticker\": soup_acao.find(\"a\").text.strip(),\n",
        "          data_de_hoje: soup_acao.find_all(\"td\")[2].text.strip()\n",
        "      })\n",
        "    except:\n",
        "      pass\n",
        "\n",
        "  bd_lista_acoes = pd.DataFrame(lista_acoes)\n",
        "  bd_lista_acoes[data_de_hoje] = bd_lista_acoes[data_de_hoje].str.replace(\".\", \"\", regex = True).astype(int)\n",
        "  bd_lista_acoes.to_excel(caminho_da_pasta + 'Bases/Lista de ações.xlsx')\n",
        "\n",
        "elif ler_dados_da_pasta == True:\n",
        "  bd_lista_acoes = pd.read_excel(\n",
        "    caminho_da_pasta + 'Bases/Lista de ações.xlsx',\n",
        "    # encoding = 'ISO-8859-1',\n",
        "    # low_memory=False,\n",
        "    index_col = 0\n",
        "  )\n",
        "\n",
        "bd_lista_acoes#.info()"
      ]
    },
    {
      "cell_type": "code",
      "execution_count": null,
      "metadata": {
        "colab": {
          "base_uri": "https://localhost:8080/",
          "height": 455
        },
        "id": "7gfWwUNyuAp4",
        "outputId": "2d9a97f6-3e1f-45bd-b8a9-b1e2db442faf"
      },
      "outputs": [
        {
          "data": {
            "text/html": [
              "<div>\n",
              "<style scoped>\n",
              "    .dataframe tbody tr th:only-of-type {\n",
              "        vertical-align: middle;\n",
              "    }\n",
              "\n",
              "    .dataframe tbody tr th {\n",
              "        vertical-align: top;\n",
              "    }\n",
              "\n",
              "    .dataframe thead th {\n",
              "        text-align: right;\n",
              "    }\n",
              "</style>\n",
              "<table border=\"1\" class=\"dataframe\">\n",
              "  <thead>\n",
              "    <tr style=\"text-align: right;\">\n",
              "      <th></th>\n",
              "      <th>Nome da Empresa</th>\n",
              "      <th>Volume no último dia útil (lido em 05/05/2024)</th>\n",
              "    </tr>\n",
              "    <tr>\n",
              "      <th>Ticker</th>\n",
              "      <th></th>\n",
              "      <th></th>\n",
              "    </tr>\n",
              "  </thead>\n",
              "  <tbody>\n",
              "    <tr>\n",
              "      <th>MGLU3</th>\n",
              "      <td>Magazine Luiza</td>\n",
              "      <td>173204700</td>\n",
              "    </tr>\n",
              "    <tr>\n",
              "      <th>B3SA3</th>\n",
              "      <td>B3</td>\n",
              "      <td>90899800</td>\n",
              "    </tr>\n",
              "    <tr>\n",
              "      <th>BBDC4</th>\n",
              "      <td>Banco Bradesco</td>\n",
              "      <td>61128700</td>\n",
              "    </tr>\n",
              "    <tr>\n",
              "      <th>HAPV3</th>\n",
              "      <td>Hapvida</td>\n",
              "      <td>49296700</td>\n",
              "    </tr>\n",
              "    <tr>\n",
              "      <th>PETR4</th>\n",
              "      <td>Petrobras</td>\n",
              "      <td>45092300</td>\n",
              "    </tr>\n",
              "    <tr>\n",
              "      <th>...</th>\n",
              "      <td>...</td>\n",
              "      <td>...</td>\n",
              "    </tr>\n",
              "    <tr>\n",
              "      <th>WLMM3</th>\n",
              "      <td>WLM</td>\n",
              "      <td>100</td>\n",
              "    </tr>\n",
              "    <tr>\n",
              "      <th>USIM6</th>\n",
              "      <td>Usiminas</td>\n",
              "      <td>500</td>\n",
              "    </tr>\n",
              "    <tr>\n",
              "      <th>JOPA3</th>\n",
              "      <td>Josapar</td>\n",
              "      <td>100</td>\n",
              "    </tr>\n",
              "    <tr>\n",
              "      <th>CTKA3</th>\n",
              "      <td>Karsten</td>\n",
              "      <td>100</td>\n",
              "    </tr>\n",
              "    <tr>\n",
              "      <th>BNBR3</th>\n",
              "      <td>Banco do Nordeste</td>\n",
              "      <td>100</td>\n",
              "    </tr>\n",
              "  </tbody>\n",
              "</table>\n",
              "<p>402 rows × 2 columns</p>\n",
              "</div>"
            ],
            "text/plain": [
              "          Nome da Empresa  Volume no último dia útil (lido em 05/05/2024)\n",
              "Ticker                                                                   \n",
              "MGLU3      Magazine Luiza                                       173204700\n",
              "B3SA3                  B3                                        90899800\n",
              "BBDC4      Banco Bradesco                                        61128700\n",
              "HAPV3             Hapvida                                        49296700\n",
              "PETR4           Petrobras                                        45092300\n",
              "...                   ...                                             ...\n",
              "WLMM3                 WLM                                             100\n",
              "USIM6            Usiminas                                             500\n",
              "JOPA3             Josapar                                             100\n",
              "CTKA3             Karsten                                             100\n",
              "BNBR3   Banco do Nordeste                                             100\n",
              "\n",
              "[402 rows x 2 columns]"
            ]
          },
          "execution_count": 29,
          "metadata": {},
          "output_type": "execute_result"
        }
      ],
      "source": [
        "# len(bd_lista_acoes[\"Ticker\"].unique())\n",
        "# bd_lista_acoes.groupby([\"Ticker\"]).count().sort_values(\"Nome da Empresa\", ascending = False)\n",
        "# bd_lista_acoes[(bd_lista_acoes[\"Ticker\"] == \"IGTI4\") + (bd_lista_acoes[\"Ticker\"] == \"IGTI3\")]\n",
        "\n",
        "# bd_lista_acoes = bd_lista_acoes[bd_lista_acoes[\"Nome da Empresa\"] != \"Jereissati Participações\"]\n",
        "bd_lista_acoes = bd_lista_acoes.set_index(\"Ticker\")\n",
        "\n",
        "bd_lista_acoes"
      ]
    },
    {
      "cell_type": "markdown",
      "metadata": {
        "id": "DdvZdWzAomEH"
      },
      "source": [
        "## Montando base completa"
      ]
    },
    {
      "cell_type": "code",
      "execution_count": null,
      "metadata": {
        "colab": {
          "base_uri": "https://localhost:8080/",
          "height": 906
        },
        "id": "1lx4EMX7orLs",
        "outputId": "5c2c5bf1-3387-4a97-9974-23e05900cc09"
      },
      "outputs": [
        {
          "data": {
            "text/html": [
              "<div>\n",
              "<style scoped>\n",
              "    .dataframe tbody tr th:only-of-type {\n",
              "        vertical-align: middle;\n",
              "    }\n",
              "\n",
              "    .dataframe tbody tr th {\n",
              "        vertical-align: top;\n",
              "    }\n",
              "\n",
              "    .dataframe thead th {\n",
              "        text-align: right;\n",
              "    }\n",
              "</style>\n",
              "<table border=\"1\" class=\"dataframe\">\n",
              "  <thead>\n",
              "    <tr style=\"text-align: right;\">\n",
              "      <th></th>\n",
              "      <th>Nome da Empresa</th>\n",
              "      <th>Volume no último dia útil (lido em 05/05/2024)</th>\n",
              "      <th>Market Cap</th>\n",
              "    </tr>\n",
              "    <tr>\n",
              "      <th>Ticker</th>\n",
              "      <th></th>\n",
              "      <th></th>\n",
              "      <th></th>\n",
              "    </tr>\n",
              "  </thead>\n",
              "  <tbody>\n",
              "    <tr>\n",
              "      <th>MGLU3</th>\n",
              "      <td>Magazine Luiza</td>\n",
              "      <td>173204700</td>\n",
              "      <td>11,516,200,960.00</td>\n",
              "    </tr>\n",
              "    <tr>\n",
              "      <th>B3SA3</th>\n",
              "      <td>B3</td>\n",
              "      <td>90899800</td>\n",
              "      <td>63,458,705,408.00</td>\n",
              "    </tr>\n",
              "    <tr>\n",
              "      <th>BBDC4</th>\n",
              "      <td>Banco Bradesco</td>\n",
              "      <td>61128700</td>\n",
              "      <td>139,477,024,768.00</td>\n",
              "    </tr>\n",
              "    <tr>\n",
              "      <th>HAPV3</th>\n",
              "      <td>Hapvida</td>\n",
              "      <td>49296700</td>\n",
              "      <td>28,852,860,928.00</td>\n",
              "    </tr>\n",
              "    <tr>\n",
              "      <th>PETR4</th>\n",
              "      <td>Petrobras</td>\n",
              "      <td>45092300</td>\n",
              "      <td>530,728,484,864.00</td>\n",
              "    </tr>\n",
              "    <tr>\n",
              "      <th>...</th>\n",
              "      <td>...</td>\n",
              "      <td>...</td>\n",
              "      <td>...</td>\n",
              "    </tr>\n",
              "    <tr>\n",
              "      <th>JFEN3</th>\n",
              "      <td>João Fortes</td>\n",
              "      <td>26900</td>\n",
              "      <td>376,952,224.00</td>\n",
              "    </tr>\n",
              "    <tr>\n",
              "      <th>INEP4</th>\n",
              "      <td>Inepar</td>\n",
              "      <td>26300</td>\n",
              "      <td>143,151,440.00</td>\n",
              "    </tr>\n",
              "    <tr>\n",
              "      <th>COCE5</th>\n",
              "      <td>Coelce</td>\n",
              "      <td>23100</td>\n",
              "      <td>3,454,238,720.00</td>\n",
              "    </tr>\n",
              "    <tr>\n",
              "      <th>ALUP4</th>\n",
              "      <td>Alupar</td>\n",
              "      <td>22900</td>\n",
              "      <td>9,181,419,520.00</td>\n",
              "    </tr>\n",
              "    <tr>\n",
              "      <th>RPAD3</th>\n",
              "      <td>Alfa Holdings</td>\n",
              "      <td>1818600</td>\n",
              "      <td>790,095,808.00</td>\n",
              "    </tr>\n",
              "  </tbody>\n",
              "</table>\n",
              "<p>259 rows × 3 columns</p>\n",
              "</div>"
            ],
            "text/plain": [
              "       Nome da Empresa  Volume no último dia útil (lido em 05/05/2024)  \\\n",
              "Ticker                                                                   \n",
              "MGLU3   Magazine Luiza                                       173204700   \n",
              "B3SA3               B3                                        90899800   \n",
              "BBDC4   Banco Bradesco                                        61128700   \n",
              "HAPV3          Hapvida                                        49296700   \n",
              "PETR4        Petrobras                                        45092300   \n",
              "...                ...                                             ...   \n",
              "JFEN3      João Fortes                                           26900   \n",
              "INEP4           Inepar                                           26300   \n",
              "COCE5           Coelce                                           23100   \n",
              "ALUP4           Alupar                                           22900   \n",
              "RPAD3    Alfa Holdings                                         1818600   \n",
              "\n",
              "               Market Cap  \n",
              "Ticker                     \n",
              "MGLU3   11,516,200,960.00  \n",
              "B3SA3   63,458,705,408.00  \n",
              "BBDC4  139,477,024,768.00  \n",
              "HAPV3   28,852,860,928.00  \n",
              "PETR4  530,728,484,864.00  \n",
              "...                   ...  \n",
              "JFEN3      376,952,224.00  \n",
              "INEP4      143,151,440.00  \n",
              "COCE5    3,454,238,720.00  \n",
              "ALUP4    9,181,419,520.00  \n",
              "RPAD3      790,095,808.00  \n",
              "\n",
              "[259 rows x 3 columns]"
            ]
          },
          "metadata": {},
          "output_type": "display_data"
        },
        {
          "data": {
            "text/plain": [
              "<AxesSubplot:>"
            ]
          },
          "execution_count": 30,
          "metadata": {},
          "output_type": "execute_result"
        },
        {
          "data": {
            "image/png": "[encoded data removed]",
            "text/plain": [
              "<Figure size 432x288 with 1 Axes>"
            ]
          },
          "metadata": {
            "needs_background": "light"
          },
          "output_type": "display_data"
        }
      ],
      "source": [
        "var_corte_market_cap = 50000000\n",
        "var_corte_volume = 20000\n",
        "var_coluna_volume = [col for col in bd_lista_acoes.columns if \"Volume\" in col]\n",
        "\n",
        "if ler_dados_da_pasta == False:\n",
        "  for ticker_acao in bd_lista_acoes.index:\n",
        "    acao = yf.Ticker(ticker_acao + \".SA\")\n",
        "    try:\n",
        "      bd_lista_acoes.loc[ticker_acao, \"Market Cap\"] = acao.info[\"marketCap\"]\n",
        "    except:\n",
        "      pass\n",
        "\n",
        "    # try:\n",
        "    #   bd_lista_acoes.loc[ticker_acao, \"Quote Type\"] = acao.info[\"quoteType\"]\n",
        "    # except:\n",
        "    #   pass\n",
        "\n",
        "    display(acao)\n",
        "\n",
        "  # display(bd_lista_acoes)\n",
        "\n",
        "  # bd_lista_acoes.groupby(\"Quote Type\").count()\n",
        "  # bd_lista_acoes[\"Market Cap\"].hist(bins = 100)\n",
        "\n",
        "\n",
        "  bd_lista_acoes_tratada = bd_lista_acoes[\n",
        "      (bd_lista_acoes[\"Market Cap\"] >= var_corte_market_cap)\n",
        "      * (bd_lista_acoes[var_coluna_volume].iloc[:, 0] >= var_corte_volume)\n",
        "      # * (~bd_lista_acoes[\"Quote Type\"].isna()) \\\n",
        "      ]\n",
        "\n",
        "\n",
        "  bd_lista_acoes_tratada.to_excel(caminho_da_pasta + 'Bases/Lista de ações Tratada.xlsx')\n",
        "\n",
        "\n",
        "elif ler_dados_da_pasta == True:\n",
        "  bd_lista_acoes_tratada = pd.read_excel(\n",
        "    caminho_da_pasta + 'Bases/Lista de ações Tratada.xlsx',\n",
        "    # encoding = 'ISO-8859-1',\n",
        "    # low_memory=False,\n",
        "    index_col = 0\n",
        "  )\n",
        "\n",
        "\n",
        "bd_lista_acoes_tratada.sort_values([col for col in bd_lista_acoes_tratada.columns if \"Volume\" in col], ascending = False)\n",
        "display(bd_lista_acoes_tratada)\n",
        "# bd_lista_acoes_tratada.groupby(\"Quote Type\").count()\n",
        "bd_lista_acoes_tratada[\"Market Cap\"].hist(bins = 100)"
      ]
    },
    {
      "cell_type": "markdown",
      "metadata": {
        "id": "Ve7ZIM8JxSuf"
      },
      "source": [
        "# Exemplo gráfico intradiário _yfinance_ (comentado)"
      ]
    },
    {
      "cell_type": "code",
      "execution_count": null,
      "metadata": {
        "id": "uSQnfoK789HU"
      },
      "outputs": [],
      "source": [
        "# bd_lista_acoes.index[0]"
      ]
    },
    {
      "cell_type": "code",
      "execution_count": null,
      "metadata": {
        "id": "fmz8mLCIKQ1h"
      },
      "outputs": [],
      "source": [
        "# # acao = \"PETR4.SA\"\n",
        "# # acao = \"BOBR4.SA\"\n",
        "# acao = bd_lista_acoes_tratada.index[0] + \".SA\"\n",
        "\n",
        "\n",
        "# bd_acao = yf.Ticker(acao).history(\n",
        "#     period = \"1d\",\n",
        "#     interval = \"15m\"\n",
        "# )\n",
        "# bd_acao.index = bd_acao.index.tz_localize(None)\n",
        "\n",
        "# bd_acao"
      ]
    },
    {
      "cell_type": "code",
      "execution_count": null,
      "metadata": {
        "id": "ApMsLL_CKQ1l"
      },
      "outputs": [],
      "source": [
        "# bd_acao.reset_index().info()"
      ]
    },
    {
      "cell_type": "markdown",
      "metadata": {
        "id": "c-QoqMpdKQ1l"
      },
      "source": [
        "## Média do início e fim do período"
      ]
    },
    {
      "cell_type": "code",
      "execution_count": null,
      "metadata": {
        "id": "4Nn8UIX8KQ1l"
      },
      "outputs": [],
      "source": [
        "# bd_acao[\"Média\"] = (bd_acao[\"Close\"] + bd_acao[\"Open\"])/2\n",
        "# bd_acao"
      ]
    },
    {
      "cell_type": "code",
      "execution_count": null,
      "metadata": {
        "id": "7WbnNtJZKQ1m"
      },
      "outputs": [],
      "source": [
        "# bd_acao_media = bd_acao.reset_index()[[\"Datetime\", \"Média\"]]\n",
        "\n",
        "# bd_acao_media"
      ]
    },
    {
      "cell_type": "markdown",
      "metadata": {
        "id": "Fad7_h16KQ1m"
      },
      "source": [
        "### Visualização da média"
      ]
    },
    {
      "cell_type": "code",
      "execution_count": null,
      "metadata": {
        "id": "Zb91M7PhKQ1m"
      },
      "outputs": [],
      "source": [
        "# plt.scatter(x = \"Datetime\", y = \"Média\", data = bd_acao_media)"
      ]
    },
    {
      "cell_type": "markdown",
      "metadata": {
        "id": "nw0T5dGhKQ1m"
      },
      "source": [
        "### Regressão linear"
      ]
    },
    {
      "cell_type": "code",
      "execution_count": null,
      "metadata": {
        "id": "5jSQsf-zKQ1m"
      },
      "outputs": [],
      "source": [
        "# # from sklearn.linear_model import LinearRegression\n",
        "\n",
        "\n",
        "# X = bd_acao_media.reset_index()[\"index\"].array.reshape(-1, 1)\n",
        "# y = bd_acao_media.loc[:, \"Média\"].array.reshape(-1, 1)\n",
        "\n",
        "# modelo_linear = LinearRegression()\n",
        "# modelo_linear.fit(X, y)\n",
        "\n",
        "# bd_acao_media[\"Regressão\"] = modelo_linear.predict(X)\n",
        "\n",
        "# bd_acao_media"
      ]
    },
    {
      "cell_type": "code",
      "execution_count": null,
      "metadata": {
        "id": "nLF979v_KQ1m"
      },
      "outputs": [],
      "source": [
        "# plt.figure(figsize = (10,5))\n",
        "\n",
        "# plt.scatter(x = \"Datetime\", y = \"Média\", data = bd_acao_media, edgecolors='black', facecolors='none')\n",
        "\n",
        "# # margem = 0.005\n",
        "# # margem = bd_acao_media[\"Média\"].std()\n",
        "# media = bd_acao_media[\"Média\"].mean()\n",
        "# desvio_padrao = bd_acao_media[\"Média\"].std()\n",
        "# alfa = modelo_linear.coef_[0][0]\n",
        "\n",
        "# display(\"Média: \" + \"{:.4f}\".format(media))\n",
        "# display(\"Desvio padrão: \" + \"{:.4f}\".format(desvio_padrao))\n",
        "# display(\"Desvio padrão (%): \" + \"{:.4f}\".format(desvio_padrao/media))\n",
        "# display(\"Inclinação da reta (alfa, coeficiente angular): \" + \"{:.4f}\".format(alfa))\n",
        "\n",
        "# plt.plot(bd_acao_media[\"Datetime\"], bd_acao_media[\"Regressão\"]-desvio_padrao, color = \"blue\", linestyle='dashed')\n",
        "# plt.plot(bd_acao_media[\"Datetime\"], bd_acao_media[\"Regressão\"], color='green')\n",
        "# plt.plot(bd_acao_media[\"Datetime\"], bd_acao_media[\"Regressão\"]+desvio_padrao, color = \"blue\", linestyle='dashed')\n",
        "\n",
        "# ax = plt.gca()\n",
        "# plt.xticks(bd_acao_media[\"Datetime\"], rotation = 45)\n",
        "# ax.xaxis.set_major_formatter(\n",
        "#     mdates.ConciseDateFormatter(ax.xaxis.get_major_locator()))\n",
        "\n",
        "# plt.title(acao + \" (média início e fim do período)\")\n",
        "# plt.show()"
      ]
    },
    {
      "cell_type": "markdown",
      "metadata": {
        "id": "IBfE33ldj1Oa"
      },
      "source": [
        "## Apenas fim"
      ]
    },
    {
      "cell_type": "code",
      "execution_count": null,
      "metadata": {
        "id": "NGc_4bU9j3J6"
      },
      "outputs": [],
      "source": [
        "# # bd_acao\n",
        "\n",
        "# bd_acao_fim = bd_acao.reset_index()[[\"Datetime\", \"Close\"]]\n",
        "# # bd_acao_fim\n",
        "\n",
        "# # from sklearn.linear_model import LinearRegression\n",
        "\n",
        "# X = bd_acao_fim.reset_index()[\"index\"].array.reshape(-1, 1)\n",
        "# y = bd_acao_fim.loc[:, \"Close\"].array.reshape(-1, 1)\n",
        "\n",
        "# modelo_linear = LinearRegression()\n",
        "# modelo_linear.fit(X, y)\n",
        "\n",
        "# bd_acao_fim[\"Regressão\"] = modelo_linear.predict(X)\n",
        "\n",
        "# bd_acao_fim"
      ]
    },
    {
      "cell_type": "code",
      "execution_count": null,
      "metadata": {
        "id": "BhDdov7Pkmov"
      },
      "outputs": [],
      "source": [
        "# plt.figure(figsize = (10,5))\n",
        "\n",
        "# plt.scatter(x = \"Datetime\", y = \"Close\", data = bd_acao_fim, edgecolors='black', facecolors='none')\n",
        "\n",
        "# # margem = 0.005\n",
        "# desvio_padrao = bd_acao_fim[\"Close\"].std()\n",
        "# media = bd_acao_fim[\"Close\"].mean()\n",
        "# alfa = modelo_linear.coef_[0][0]\n",
        "\n",
        "# display(\"Média: \" + \"{:.4f}\".format(media))\n",
        "# display(\"Desvio padrão: \" + \"{:.4f}\".format(desvio_padrao))\n",
        "# display(\"Desvio padrão (%): \" + \"{:.4f}\".format(desvio_padrao/media))\n",
        "# display(\"Inclinação da reta (alfa, coeficiente angular): \" + \"{:.4f}\".format(alfa))\n",
        "\n",
        "# plt.plot(bd_acao_fim[\"Datetime\"], bd_acao_fim[\"Regressão\"]-desvio_padrao, color = \"blue\", linestyle='dashed')\n",
        "# plt.plot(bd_acao_fim[\"Datetime\"], bd_acao_fim[\"Regressão\"], color='green')\n",
        "# plt.plot(bd_acao_fim[\"Datetime\"], bd_acao_fim[\"Regressão\"]+desvio_padrao, color = \"blue\", linestyle='dashed')\n",
        "\n",
        "# ax = plt.gca()\n",
        "# plt.xticks(bd_acao_fim[\"Datetime\"], rotation = 45)\n",
        "# ax.xaxis.set_major_formatter(\n",
        "#     mdates.ConciseDateFormatter(ax.xaxis.get_major_locator()))\n",
        "\n",
        "# plt.title(acao + \" (fechamento)\")\n",
        "# plt.show()"
      ]
    },
    {
      "cell_type": "markdown",
      "metadata": {
        "id": "C8Y0Ubc5VA1v"
      },
      "source": [
        "## Função completa"
      ]
    },
    {
      "cell_type": "code",
      "execution_count": null,
      "metadata": {
        "id": "kxrW0ZSBTHHj"
      },
      "outputs": [],
      "source": [
        "# acao = bd_lista_acoes_tratada.index[0] + \".SA\"\n",
        "# bd_acao = yf.Ticker(acao).history(\n",
        "#     period = \"1d\",\n",
        "#     interval = \"15m\"\n",
        "# )\n",
        "# bd_acao.index = bd_acao.index.tz_localize(None)\n",
        "\n",
        "# criar_regressao_bd_acao(\n",
        "#   bd_acao,\n",
        "#   coluna = \"Close\",\n",
        "#   print_variaveis = True,\n",
        "#   plot_grafico = True,\n",
        "#   titulo = acao + \" (fechamento)\"\n",
        "# );"
      ]
    },
    {
      "cell_type": "markdown",
      "metadata": {
        "id": "qk7ddalHmaAv"
      },
      "source": [
        "# Detecção de martelo"
      ]
    },
    {
      "cell_type": "markdown",
      "metadata": {},
      "source": [
        "## Exemplo (comentado)"
      ]
    },
    {
      "cell_type": "code",
      "execution_count": null,
      "metadata": {
        "id": "Br1FfZTlmeOZ"
      },
      "outputs": [],
      "source": [
        "# # acao = bd_lista_acoes_tratada.index[0] + \".SA\"\n",
        "# acao = \"PETR3\" + \".SA\"\n",
        "# print(acao )\n",
        "# bd_acao = yf.Ticker(acao).history(\n",
        "#     period = \"21d\",\n",
        "#     interval = \"1d\"\n",
        "# )\n",
        "# bd_acao[\"Amplitude Open-Close\"] = abs(bd_acao[\"Open\"] - bd_acao[\"Close\"])\n",
        "# bd_acao[\"Amplitude High-Low\"] = abs(bd_acao[\"High\"] - bd_acao[\"Low\"])\n",
        "\n",
        "# taxa_máxima_para_ser_martelo = 0.2\n",
        "# bd_acao[\"Martelo?\"] = (bd_acao[\"Amplitude Open-Close\"] < taxa_máxima_para_ser_martelo * bd_acao[\"Amplitude High-Low\"])\n",
        "\n",
        "\n",
        "# [bd_acao_coluna, media, desvio_padrao, modelo_linear, valor_fechamento] = criar_regressao_bd_acao(\n",
        "#   bd_acao,\n",
        "#   coluna = \"Close\",\n",
        "#   print_variaveis = True,\n",
        "#   plot_grafico = True,\n",
        "#   titulo = acao + \" (fechamento)\"\n",
        "# );\n",
        "\n",
        "# display(bd_acao[bd_acao[\"Martelo?\"] == True])\n",
        "\n",
        "# # df = pd.read_csv('https://raw.githubusercontent.com/plotly/datasets/master/finance-charts-apple.csv')\n",
        "\n",
        "# fig = go.Figure(data=[go.Candlestick(x=bd_acao.index,\n",
        "#                 open = bd_acao['Open'],\n",
        "#                 high = bd_acao['High'],\n",
        "#                 low = bd_acao['Low'],\n",
        "#                 close = bd_acao['Close'])])\n",
        "# fig.update_layout(\n",
        "#     # xaxis_rangeslider_visible=False,\n",
        "#     title=acao,\n",
        "#     )\n",
        "# fig.show()"
      ]
    },
    {
      "cell_type": "code",
      "execution_count": null,
      "metadata": {
        "id": "67pec5OtvHik"
      },
      "outputs": [],
      "source": [
        "# lista_datas_martelo = bd_acao[bd_acao[\"Martelo?\"] == True].sort_index(ascending = False).index.to_pydatetime()\n",
        "# string_datas_martelo = \"\"\n",
        "# for data in lista_datas_martelo:\n",
        "#   string_datas_martelo = data.strftime(\"%d/%m/%y\") + \", \" + string_datas_martelo\n",
        "\n",
        "# string_datas_martelo[:-2]"
      ]
    },
    {
      "cell_type": "markdown",
      "metadata": {
        "id": "U-izU1blsBEm"
      },
      "source": [
        "## Função completa (plota candlestick acha martelos)"
      ]
    },
    {
      "cell_type": "code",
      "execution_count": null,
      "metadata": {
        "colab": {
          "base_uri": "https://localhost:8080/",
          "height": 1000
        },
        "id": "vG9rIojxsAFu",
        "outputId": "6b85f4de-e211-45e4-ea7c-a0fe3685a388"
      },
      "outputs": [
        {
          "data": {
            "text/html": [
              "<div>\n",
              "<style scoped>\n",
              "    .dataframe tbody tr th:only-of-type {\n",
              "        vertical-align: middle;\n",
              "    }\n",
              "\n",
              "    .dataframe tbody tr th {\n",
              "        vertical-align: top;\n",
              "    }\n",
              "\n",
              "    .dataframe thead th {\n",
              "        text-align: right;\n",
              "    }\n",
              "</style>\n",
              "<table border=\"1\" class=\"dataframe\">\n",
              "  <thead>\n",
              "    <tr style=\"text-align: right;\">\n",
              "      <th></th>\n",
              "      <th>Open</th>\n",
              "      <th>High</th>\n",
              "      <th>Low</th>\n",
              "      <th>Close</th>\n",
              "      <th>Volume</th>\n",
              "      <th>Dividends</th>\n",
              "      <th>Stock Splits</th>\n",
              "      <th>Amplitude Open-Close</th>\n",
              "      <th>Amplitude High-Low</th>\n",
              "      <th>Martelo?</th>\n",
              "    </tr>\n",
              "    <tr>\n",
              "      <th>Date</th>\n",
              "      <th></th>\n",
              "      <th></th>\n",
              "      <th></th>\n",
              "      <th></th>\n",
              "      <th></th>\n",
              "      <th></th>\n",
              "      <th></th>\n",
              "      <th></th>\n",
              "      <th></th>\n",
              "      <th></th>\n",
              "    </tr>\n",
              "  </thead>\n",
              "  <tbody>\n",
              "    <tr>\n",
              "      <th>2024-02-21 00:00:00-03:00</th>\n",
              "      <td>40.80</td>\n",
              "      <td>41.21</td>\n",
              "      <td>40.64</td>\n",
              "      <td>40.90</td>\n",
              "      <td>7858600</td>\n",
              "      <td>0.00</td>\n",
              "      <td>0.00</td>\n",
              "      <td>0.10</td>\n",
              "      <td>0.57</td>\n",
              "      <td>True</td>\n",
              "    </tr>\n",
              "    <tr>\n",
              "      <th>2024-02-22 00:00:00-03:00</th>\n",
              "      <td>41.08</td>\n",
              "      <td>41.13</td>\n",
              "      <td>40.23</td>\n",
              "      <td>40.93</td>\n",
              "      <td>9570500</td>\n",
              "      <td>0.00</td>\n",
              "      <td>0.00</td>\n",
              "      <td>0.15</td>\n",
              "      <td>0.90</td>\n",
              "      <td>True</td>\n",
              "    </tr>\n",
              "    <tr>\n",
              "      <th>2024-02-23 00:00:00-03:00</th>\n",
              "      <td>40.86</td>\n",
              "      <td>40.92</td>\n",
              "      <td>40.22</td>\n",
              "      <td>40.82</td>\n",
              "      <td>13303800</td>\n",
              "      <td>0.00</td>\n",
              "      <td>0.00</td>\n",
              "      <td>0.05</td>\n",
              "      <td>0.70</td>\n",
              "      <td>True</td>\n",
              "    </tr>\n",
              "    <tr>\n",
              "      <th>2024-03-07 00:00:00-03:00</th>\n",
              "      <td>38.67</td>\n",
              "      <td>39.05</td>\n",
              "      <td>38.48</td>\n",
              "      <td>38.61</td>\n",
              "      <td>7828400</td>\n",
              "      <td>0.00</td>\n",
              "      <td>0.00</td>\n",
              "      <td>0.06</td>\n",
              "      <td>0.57</td>\n",
              "      <td>True</td>\n",
              "    </tr>\n",
              "    <tr>\n",
              "      <th>2024-03-08 00:00:00-03:00</th>\n",
              "      <td>34.42</td>\n",
              "      <td>35.52</td>\n",
              "      <td>33.19</td>\n",
              "      <td>34.60</td>\n",
              "      <td>81532400</td>\n",
              "      <td>0.00</td>\n",
              "      <td>0.00</td>\n",
              "      <td>0.19</td>\n",
              "      <td>2.33</td>\n",
              "      <td>True</td>\n",
              "    </tr>\n",
              "    <tr>\n",
              "      <th>2024-03-15 00:00:00-03:00</th>\n",
              "      <td>34.30</td>\n",
              "      <td>34.62</td>\n",
              "      <td>34.11</td>\n",
              "      <td>34.31</td>\n",
              "      <td>19056600</td>\n",
              "      <td>0.00</td>\n",
              "      <td>0.00</td>\n",
              "      <td>0.01</td>\n",
              "      <td>0.51</td>\n",
              "      <td>True</td>\n",
              "    </tr>\n",
              "    <tr>\n",
              "      <th>2024-03-18 00:00:00-03:00</th>\n",
              "      <td>34.58</td>\n",
              "      <td>34.70</td>\n",
              "      <td>33.55</td>\n",
              "      <td>34.60</td>\n",
              "      <td>13273300</td>\n",
              "      <td>0.00</td>\n",
              "      <td>0.00</td>\n",
              "      <td>0.03</td>\n",
              "      <td>1.15</td>\n",
              "      <td>True</td>\n",
              "    </tr>\n",
              "    <tr>\n",
              "      <th>2024-04-04 00:00:00-03:00</th>\n",
              "      <td>36.79</td>\n",
              "      <td>38.21</td>\n",
              "      <td>36.21</td>\n",
              "      <td>36.61</td>\n",
              "      <td>35243500</td>\n",
              "      <td>0.00</td>\n",
              "      <td>0.00</td>\n",
              "      <td>0.19</td>\n",
              "      <td>1.99</td>\n",
              "      <td>True</td>\n",
              "    </tr>\n",
              "    <tr>\n",
              "      <th>2024-04-05 00:00:00-03:00</th>\n",
              "      <td>36.51</td>\n",
              "      <td>36.96</td>\n",
              "      <td>35.69</td>\n",
              "      <td>36.53</td>\n",
              "      <td>14912300</td>\n",
              "      <td>0.00</td>\n",
              "      <td>0.00</td>\n",
              "      <td>0.02</td>\n",
              "      <td>1.27</td>\n",
              "      <td>True</td>\n",
              "    </tr>\n",
              "    <tr>\n",
              "      <th>2024-04-09 00:00:00-03:00</th>\n",
              "      <td>37.36</td>\n",
              "      <td>37.42</td>\n",
              "      <td>36.64</td>\n",
              "      <td>37.24</td>\n",
              "      <td>9100900</td>\n",
              "      <td>0.00</td>\n",
              "      <td>0.00</td>\n",
              "      <td>0.12</td>\n",
              "      <td>0.78</td>\n",
              "      <td>True</td>\n",
              "    </tr>\n",
              "    <tr>\n",
              "      <th>2024-04-17 00:00:00-03:00</th>\n",
              "      <td>38.54</td>\n",
              "      <td>38.81</td>\n",
              "      <td>38.37</td>\n",
              "      <td>38.51</td>\n",
              "      <td>10628800</td>\n",
              "      <td>0.00</td>\n",
              "      <td>0.00</td>\n",
              "      <td>0.04</td>\n",
              "      <td>0.44</td>\n",
              "      <td>True</td>\n",
              "    </tr>\n",
              "    <tr>\n",
              "      <th>2024-04-23 00:00:00-03:00</th>\n",
              "      <td>40.75</td>\n",
              "      <td>41.01</td>\n",
              "      <td>40.37</td>\n",
              "      <td>40.67</td>\n",
              "      <td>14932800</td>\n",
              "      <td>0.00</td>\n",
              "      <td>0.00</td>\n",
              "      <td>0.08</td>\n",
              "      <td>0.65</td>\n",
              "      <td>True</td>\n",
              "    </tr>\n",
              "    <tr>\n",
              "      <th>2024-04-30 00:00:00-03:00</th>\n",
              "      <td>42.63</td>\n",
              "      <td>42.74</td>\n",
              "      <td>42.05</td>\n",
              "      <td>42.51</td>\n",
              "      <td>12677300</td>\n",
              "      <td>0.00</td>\n",
              "      <td>0.00</td>\n",
              "      <td>0.12</td>\n",
              "      <td>0.69</td>\n",
              "      <td>True</td>\n",
              "    </tr>\n",
              "    <tr>\n",
              "      <th>2024-05-02 00:00:00-03:00</th>\n",
              "      <td>42.72</td>\n",
              "      <td>42.90</td>\n",
              "      <td>42.27</td>\n",
              "      <td>42.67</td>\n",
              "      <td>12134000</td>\n",
              "      <td>0.00</td>\n",
              "      <td>0.00</td>\n",
              "      <td>0.05</td>\n",
              "      <td>0.63</td>\n",
              "      <td>True</td>\n",
              "    </tr>\n",
              "  </tbody>\n",
              "</table>\n",
              "</div>"
            ],
            "text/plain": [
              "                           Open  High   Low  Close    Volume  Dividends  \\\n",
              "Date                                                                      \n",
              "2024-02-21 00:00:00-03:00 40.80 41.21 40.64  40.90   7858600       0.00   \n",
              "2024-02-22 00:00:00-03:00 41.08 41.13 40.23  40.93   9570500       0.00   \n",
              "2024-02-23 00:00:00-03:00 40.86 40.92 40.22  40.82  13303800       0.00   \n",
              "2024-03-07 00:00:00-03:00 38.67 39.05 38.48  38.61   7828400       0.00   \n",
              "2024-03-08 00:00:00-03:00 34.42 35.52 33.19  34.60  81532400       0.00   \n",
              "2024-03-15 00:00:00-03:00 34.30 34.62 34.11  34.31  19056600       0.00   \n",
              "2024-03-18 00:00:00-03:00 34.58 34.70 33.55  34.60  13273300       0.00   \n",
              "2024-04-04 00:00:00-03:00 36.79 38.21 36.21  36.61  35243500       0.00   \n",
              "2024-04-05 00:00:00-03:00 36.51 36.96 35.69  36.53  14912300       0.00   \n",
              "2024-04-09 00:00:00-03:00 37.36 37.42 36.64  37.24   9100900       0.00   \n",
              "2024-04-17 00:00:00-03:00 38.54 38.81 38.37  38.51  10628800       0.00   \n",
              "2024-04-23 00:00:00-03:00 40.75 41.01 40.37  40.67  14932800       0.00   \n",
              "2024-04-30 00:00:00-03:00 42.63 42.74 42.05  42.51  12677300       0.00   \n",
              "2024-05-02 00:00:00-03:00 42.72 42.90 42.27  42.67  12134000       0.00   \n",
              "\n",
              "                           Stock Splits  Amplitude Open-Close  \\\n",
              "Date                                                            \n",
              "2024-02-21 00:00:00-03:00          0.00                  0.10   \n",
              "2024-02-22 00:00:00-03:00          0.00                  0.15   \n",
              "2024-02-23 00:00:00-03:00          0.00                  0.05   \n",
              "2024-03-07 00:00:00-03:00          0.00                  0.06   \n",
              "2024-03-08 00:00:00-03:00          0.00                  0.19   \n",
              "2024-03-15 00:00:00-03:00          0.00                  0.01   \n",
              "2024-03-18 00:00:00-03:00          0.00                  0.03   \n",
              "2024-04-04 00:00:00-03:00          0.00                  0.19   \n",
              "2024-04-05 00:00:00-03:00          0.00                  0.02   \n",
              "2024-04-09 00:00:00-03:00          0.00                  0.12   \n",
              "2024-04-17 00:00:00-03:00          0.00                  0.04   \n",
              "2024-04-23 00:00:00-03:00          0.00                  0.08   \n",
              "2024-04-30 00:00:00-03:00          0.00                  0.12   \n",
              "2024-05-02 00:00:00-03:00          0.00                  0.05   \n",
              "\n",
              "                           Amplitude High-Low  Martelo?  \n",
              "Date                                                     \n",
              "2024-02-21 00:00:00-03:00                0.57      True  \n",
              "2024-02-22 00:00:00-03:00                0.90      True  \n",
              "2024-02-23 00:00:00-03:00                0.70      True  \n",
              "2024-03-07 00:00:00-03:00                0.57      True  \n",
              "2024-03-08 00:00:00-03:00                2.33      True  \n",
              "2024-03-15 00:00:00-03:00                0.51      True  \n",
              "2024-03-18 00:00:00-03:00                1.15      True  \n",
              "2024-04-04 00:00:00-03:00                1.99      True  \n",
              "2024-04-05 00:00:00-03:00                1.27      True  \n",
              "2024-04-09 00:00:00-03:00                0.78      True  \n",
              "2024-04-17 00:00:00-03:00                0.44      True  \n",
              "2024-04-23 00:00:00-03:00                0.65      True  \n",
              "2024-04-30 00:00:00-03:00                0.69      True  \n",
              "2024-05-02 00:00:00-03:00                0.63      True  "
            ]
          },
          "metadata": {},
          "output_type": "display_data"
        },
        {
          "data": {
            "application/vnd.plotly.v1+json": {
              "config": {
                "plotlyServerURL": "https://plot.ly"
              },
              "data": [
                {
                  "close": [
                    40.20939636230469,
                    40.593055725097656,
                    40.452693939208984,
                    39.99417495727539,
                    39.591796875,
                    40.714698791503906,
                    41.453948974609375,
                    41.631744384765625,
                    40.798919677734375,
                    40.901851654052734,
                    40.929927825927734,
                    40.81763458251953,
                    41.248085021972656,
                    41.1451530456543,
                    38.92741012573242,
                    38.57182312011719,
                    38.56246566772461,
                    38.41274642944336,
                    38.17880630493164,
                    38.83383560180664,
                    38.6092529296875,
                    34.60422134399414,
                    33.93983840942383,
                    34.96916580200195,
                    34.6229362487793,
                    34.38899612426758,
                    34.31413650512695,
                    34.60422134399414,
                    34.22056198120117,
                    34.931739807128906,
                    34.22056198120117,
                    34.4919319152832,
                    34.92237854003906,
                    34.538719177246094,
                    34.95981216430664,
                    35.820701599121094,
                    36.08271789550781,
                    37.06526184082031,
                    36.77517318725586,
                    36.60673522949219,
                    36.53187942504883,
                    37.05590057373047,
                    37.2430534362793,
                    38.36595916748047,
                    38.01972961425781,
                    37.71092987060547,
                    38.26302719116211,
                    38.45017623901367,
                    38.50632095336914,
                    38.41274642944336,
                    39.97545623779297,
                    40.948638916015625,
                    40.66791534423828,
                    40.4901237487793,
                    41.407161712646484,
                    42.01974105834961,
                    42.778499603271484,
                    42.50957107543945,
                    42.672847747802734,
                    42.0099983215332
                  ],
                  "high": [
                    40.583696247247865,
                    40.6585582940874,
                    40.817637869650454,
                    40.74277833107465,
                    39.9193097098899,
                    40.714698791503906,
                    41.46330852431763,
                    41.64110036477559,
                    41.60366961013086,
                    41.21065252849978,
                    41.12643553148661,
                    40.92056820991818,
                    41.44459272911985,
                    41.52881249532753,
                    41.44459359007761,
                    39.67601433081673,
                    39.1707078924889,
                    39.15199382070234,
                    38.54375021264878,
                    38.83383560180664,
                    39.04905895842207,
                    35.521260865258235,
                    35.53062281697439,
                    35.32475372642444,
                    35.427686148944524,
                    35.15631493589236,
                    34.622937389860624,
                    34.69779899083062,
                    35.08145848562539,
                    34.997242378954226,
                    35.27796618992294,
                    34.58550599298,
                    35.12824579543807,
                    35.03466821756291,
                    34.969168144955695,
                    35.86749220657092,
                    36.21372303820282,
                    37.140120396168555,
                    37.26176624738188,
                    38.20687901989902,
                    36.962325908027886,
                    37.186909286360304,
                    37.42084919542412,
                    38.42210575864329,
                    38.4969631308386,
                    38.76833413462875,
                    38.394032339922774,
                    38.7121865181739,
                    38.80576227771836,
                    39.27364298410984,
                    40.059674333728516,
                    41.04221656164325,
                    41.01414729757741,
                    41.135793485002324,
                    41.59431343996143,
                    42.19262257181041,
                    42.778499603271484,
                    42.74008098949079,
                    42.90335398750767,
                    43.08000183105469
                  ],
                  "low": [
                    39.69472821987159,
                    40.00352903456768,
                    40.26554219883264,
                    39.78830769087217,
                    39.376573644983466,
                    39.33914135830124,
                    40.462050882873164,
                    41.294871990450346,
                    40.5369094000694,
                    40.639841386974396,
                    40.228111532112685,
                    40.218751917242564,
                    40.64919878126047,
                    40.90185471974107,
                    38.59989727368345,
                    38.12266113824957,
                    38.53439415783843,
                    38.25366977466792,
                    37.82321837732059,
                    38.27238398481017,
                    38.47824778996801,
                    33.191232788174524,
                    33.81818924512284,
                    34.426429720157174,
                    34.56678966169027,
                    34.23927546759987,
                    34.108272818260126,
                    33.546817137286446,
                    33.88368959119266,
                    33.92112257961405,
                    34.06148533570951,
                    33.85561819200269,
                    34.5293631284107,
                    34.43578554934133,
                    34.295426879925344,
                    34.68843886342984,
                    35.61484034609853,
                    36.176293739715874,
                    36.55059397158064,
                    36.21371983615788,
                    35.68969841954861,
                    36.082717981551525,
                    36.64417072460155,
                    37.14947824926533,
                    38.01972961425781,
                    37.402132543362605,
                    37.52377977215828,
                    37.870009091035016,
                    38.36595627087075,
                    38.22559469411391,
                    38.384671964356045,
                    39.95674085971806,
                    40.36847400108503,
                    40.433977157516345,
                    40.39654452691912,
                    41.35703103263696,
                    41.875673082386676,
                    42.048554911167564,
                    42.26945633257317,
                    41.54999923706055
                  ],
                  "open": [
                    39.69472821987159,
                    40.19068076151935,
                    40.58369908658566,
                    40.452692962017615,
                    39.79766055566415,
                    39.64793865446516,
                    40.51819390263344,
                    41.44459265796577,
                    41.56623855057235,
                    40.79891802923705,
                    41.07964849249006,
                    40.864421621440115,
                    40.798919449032944,
                    41.52881249532753,
                    41.00478755764982,
                    39.06777213912521,
                    38.721545886198385,
                    38.656044756258375,
                    38.44082015299246,
                    38.384673594285,
                    38.665399519405426,
                    34.41706961994342,
                    34.34221339396963,
                    34.62293742722396,
                    35.06274225692126,
                    34.8100865866524,
                    34.30478052511485,
                    34.57614983475431,
                    34.604221409905925,
                    34.351569071501146,
                    34.93173782002408,
                    34.24863360187594,
                    34.5293631284107,
                    34.90366308009222,
                    34.53872164264859,
                    34.90366209313479,
                    35.86749465113423,
                    36.26986782630683,
                    37.21497920825139,
                    36.793886946632284,
                    36.513163894968564,
                    36.40087485869342,
                    37.36470260259588,
                    37.14947824926533,
                    38.2910958725061,
                    38.36595915547712,
                    37.61735742814631,
                    38.029085740633064,
                    38.543748441696174,
                    38.64668520619956,
                    38.55310815622714,
                    40.19067961935385,
                    40.75213344510153,
                    40.705346994186975,
                    40.49012217538775,
                    41.51070308195427,
                    41.94290437685715,
                    42.63443076487688,
                    42.72086957575538,
                    43.02000045776367
                  ],
                  "type": "candlestick",
                  "x": [
                    "2024-02-06T00:00:00-03:00",
                    "2024-02-07T00:00:00-03:00",
                    "2024-02-08T00:00:00-03:00",
                    "2024-02-09T00:00:00-03:00",
                    "2024-02-14T00:00:00-03:00",
                    "2024-02-15T00:00:00-03:00",
                    "2024-02-16T00:00:00-03:00",
                    "2024-02-19T00:00:00-03:00",
                    "2024-02-20T00:00:00-03:00",
                    "2024-02-21T00:00:00-03:00",
                    "2024-02-22T00:00:00-03:00",
                    "2024-02-23T00:00:00-03:00",
                    "2024-02-26T00:00:00-03:00",
                    "2024-02-27T00:00:00-03:00",
                    "2024-02-28T00:00:00-03:00",
                    "2024-02-29T00:00:00-03:00",
                    "2024-03-01T00:00:00-03:00",
                    "2024-03-04T00:00:00-03:00",
                    "2024-03-05T00:00:00-03:00",
                    "2024-03-06T00:00:00-03:00",
                    "2024-03-07T00:00:00-03:00",
                    "2024-03-08T00:00:00-03:00",
                    "2024-03-11T00:00:00-03:00",
                    "2024-03-12T00:00:00-03:00",
                    "2024-03-13T00:00:00-03:00",
                    "2024-03-14T00:00:00-03:00",
                    "2024-03-15T00:00:00-03:00",
                    "2024-03-18T00:00:00-03:00",
                    "2024-03-19T00:00:00-03:00",
                    "2024-03-20T00:00:00-03:00",
                    "2024-03-21T00:00:00-03:00",
                    "2024-03-22T00:00:00-03:00",
                    "2024-03-25T00:00:00-03:00",
                    "2024-03-26T00:00:00-03:00",
                    "2024-03-27T00:00:00-03:00",
                    "2024-03-28T00:00:00-03:00",
                    "2024-04-01T00:00:00-03:00",
                    "2024-04-02T00:00:00-03:00",
                    "2024-04-03T00:00:00-03:00",
                    "2024-04-04T00:00:00-03:00",
                    "2024-04-05T00:00:00-03:00",
                    "2024-04-08T00:00:00-03:00",
                    "2024-04-09T00:00:00-03:00",
                    "2024-04-10T00:00:00-03:00",
                    "2024-04-11T00:00:00-03:00",
                    "2024-04-12T00:00:00-03:00",
                    "2024-04-15T00:00:00-03:00",
                    "2024-04-16T00:00:00-03:00",
                    "2024-04-17T00:00:00-03:00",
                    "2024-04-18T00:00:00-03:00",
                    "2024-04-19T00:00:00-03:00",
                    "2024-04-22T00:00:00-03:00",
                    "2024-04-23T00:00:00-03:00",
                    "2024-04-24T00:00:00-03:00",
                    "2024-04-25T00:00:00-03:00",
                    "2024-04-26T00:00:00-03:00",
                    "2024-04-29T00:00:00-03:00",
                    "2024-04-30T00:00:00-03:00",
                    "2024-05-02T00:00:00-03:00",
                    "2024-05-03T00:00:00-03:00"
                  ],
                  "xaxis": "x",
                  "yaxis": "y"
                },
                {
                  "name": "Volume",
                  "type": "bar",
                  "x": [
                    "2024-02-06T00:00:00-03:00",
                    "2024-02-07T00:00:00-03:00",
                    "2024-02-08T00:00:00-03:00",
                    "2024-02-09T00:00:00-03:00",
                    "2024-02-14T00:00:00-03:00",
                    "2024-02-15T00:00:00-03:00",
                    "2024-02-16T00:00:00-03:00",
                    "2024-02-19T00:00:00-03:00",
                    "2024-02-20T00:00:00-03:00",
                    "2024-02-21T00:00:00-03:00",
                    "2024-02-22T00:00:00-03:00",
                    "2024-02-23T00:00:00-03:00",
                    "2024-02-26T00:00:00-03:00",
                    "2024-02-27T00:00:00-03:00",
                    "2024-02-28T00:00:00-03:00",
                    "2024-02-29T00:00:00-03:00",
                    "2024-03-01T00:00:00-03:00",
                    "2024-03-04T00:00:00-03:00",
                    "2024-03-05T00:00:00-03:00",
                    "2024-03-06T00:00:00-03:00",
                    "2024-03-07T00:00:00-03:00",
                    "2024-03-08T00:00:00-03:00",
                    "2024-03-11T00:00:00-03:00",
                    "2024-03-12T00:00:00-03:00",
                    "2024-03-13T00:00:00-03:00",
                    "2024-03-14T00:00:00-03:00",
                    "2024-03-15T00:00:00-03:00",
                    "2024-03-18T00:00:00-03:00",
                    "2024-03-19T00:00:00-03:00",
                    "2024-03-20T00:00:00-03:00",
                    "2024-03-21T00:00:00-03:00",
                    "2024-03-22T00:00:00-03:00",
                    "2024-03-25T00:00:00-03:00",
                    "2024-03-26T00:00:00-03:00",
                    "2024-03-27T00:00:00-03:00",
                    "2024-03-28T00:00:00-03:00",
                    "2024-04-01T00:00:00-03:00",
                    "2024-04-02T00:00:00-03:00",
                    "2024-04-03T00:00:00-03:00",
                    "2024-04-04T00:00:00-03:00",
                    "2024-04-05T00:00:00-03:00",
                    "2024-04-08T00:00:00-03:00",
                    "2024-04-09T00:00:00-03:00",
                    "2024-04-10T00:00:00-03:00",
                    "2024-04-11T00:00:00-03:00",
                    "2024-04-12T00:00:00-03:00",
                    "2024-04-15T00:00:00-03:00",
                    "2024-04-16T00:00:00-03:00",
                    "2024-04-17T00:00:00-03:00",
                    "2024-04-18T00:00:00-03:00",
                    "2024-04-19T00:00:00-03:00",
                    "2024-04-22T00:00:00-03:00",
                    "2024-04-23T00:00:00-03:00",
                    "2024-04-24T00:00:00-03:00",
                    "2024-04-25T00:00:00-03:00",
                    "2024-04-26T00:00:00-03:00",
                    "2024-04-29T00:00:00-03:00",
                    "2024-04-30T00:00:00-03:00",
                    "2024-05-02T00:00:00-03:00",
                    "2024-05-03T00:00:00-03:00"
                  ],
                  "xaxis": "x2",
                  "y": [
                    12996300,
                    11727300,
                    8013000,
                    12000000,
                    5693300,
                    9115100,
                    13005700,
                    3734700,
                    17427300,
                    7858600,
                    9570500,
                    13303800,
                    6699800,
                    8188500,
                    17368700,
                    18875500,
                    9662900,
                    8429000,
                    10137400,
                    19565300,
                    7828400,
                    81532400,
                    47244600,
                    27981900,
                    20288500,
                    16708500,
                    19056600,
                    13273300,
                    15143000,
                    13966700,
                    16440400,
                    8901300,
                    8036500,
                    8979800,
                    5149800,
                    10673600,
                    7829200,
                    12953900,
                    11549700,
                    35243500,
                    14912300,
                    11438000,
                    9100900,
                    15627500,
                    7219900,
                    10318000,
                    13367800,
                    10944200,
                    10628800,
                    10453300,
                    18589200,
                    13007200,
                    14932800,
                    13343200,
                    8283500,
                    8957200,
                    10042900,
                    12677300,
                    12134000,
                    17852300
                  ],
                  "yaxis": "y2"
                }
              ],
              "layout": {
                "annotations": [
                  {
                    "font": {
                      "size": 16
                    },
                    "showarrow": false,
                    "text": "Candlesticks",
                    "x": 0.5,
                    "xanchor": "center",
                    "xref": "paper",
                    "y": 1,
                    "yanchor": "bottom",
                    "yref": "paper"
                  },
                  {
                    "font": {
                      "size": 16
                    },
                    "showarrow": false,
                    "text": "Volume transacionado",
                    "x": 0.5,
                    "xanchor": "center",
                    "xref": "paper",
                    "y": 0.20000000000000004,
                    "yanchor": "bottom",
                    "yref": "paper"
                  }
                ],
                "template": {
                  "data": {
                    "bar": [
                      {
                        "error_x": {
                          "color": "#2a3f5f"
                        },
                        "error_y": {
                          "color": "#2a3f5f"
                        },
                        "marker": {
                          "line": {
                            "color": "#E5ECF6",
                            "width": 0.5
                          },
                          "pattern": {
                            "fillmode": "overlay",
                            "size": 10,
                            "solidity": 0.2
                          }
                        },
                        "type": "bar"
                      }
                    ],
                    "barpolar": [
                      {
                        "marker": {
                          "line": {
                            "color": "#E5ECF6",
                            "width": 0.5
                          },
                          "pattern": {
                            "fillmode": "overlay",
                            "size": 10,
                            "solidity": 0.2
                          }
                        },
                        "type": "barpolar"
                      }
                    ],
                    "carpet": [
                      {
                        "aaxis": {
                          "endlinecolor": "#2a3f5f",
                          "gridcolor": "white",
                          "linecolor": "white",
                          "minorgridcolor": "white",
                          "startlinecolor": "#2a3f5f"
                        },
                        "baxis": {
                          "endlinecolor": "#2a3f5f",
                          "gridcolor": "white",
                          "linecolor": "white",
                          "minorgridcolor": "white",
                          "startlinecolor": "#2a3f5f"
                        },
                        "type": "carpet"
                      }
                    ],
                    "choropleth": [
                      {
                        "colorbar": {
                          "outlinewidth": 0,
                          "ticks": ""
                        },
                        "type": "choropleth"
                      }
                    ],
                    "contour": [
                      {
                        "colorbar": {
                          "outlinewidth": 0,
                          "ticks": ""
                        },
                        "colorscale": [
                          [
                            0,
                            "#0d0887"
                          ],
                          [
                            0.1111111111111111,
                            "#46039f"
                          ],
                          [
                            0.2222222222222222,
                            "#7201a8"
                          ],
                          [
                            0.3333333333333333,
                            "#9c179e"
                          ],
                          [
                            0.4444444444444444,
                            "#bd3786"
                          ],
                          [
                            0.5555555555555556,
                            "#d8576b"
                          ],
                          [
                            0.6666666666666666,
                            "#ed7953"
                          ],
                          [
                            0.7777777777777778,
                            "#fb9f3a"
                          ],
                          [
                            0.8888888888888888,
                            "#fdca26"
                          ],
                          [
                            1,
                            "#f0f921"
                          ]
                        ],
                        "type": "contour"
                      }
                    ],
                    "contourcarpet": [
                      {
                        "colorbar": {
                          "outlinewidth": 0,
                          "ticks": ""
                        },
                        "type": "contourcarpet"
                      }
                    ],
                    "heatmap": [
                      {
                        "colorbar": {
                          "outlinewidth": 0,
                          "ticks": ""
                        },
                        "colorscale": [
                          [
                            0,
                            "#0d0887"
                          ],
                          [
                            0.1111111111111111,
                            "#46039f"
                          ],
                          [
                            0.2222222222222222,
                            "#7201a8"
                          ],
                          [
                            0.3333333333333333,
                            "#9c179e"
                          ],
                          [
                            0.4444444444444444,
                            "#bd3786"
                          ],
                          [
                            0.5555555555555556,
                            "#d8576b"
                          ],
                          [
                            0.6666666666666666,
                            "#ed7953"
                          ],
                          [
                            0.7777777777777778,
                            "#fb9f3a"
                          ],
                          [
                            0.8888888888888888,
                            "#fdca26"
                          ],
                          [
                            1,
                            "#f0f921"
                          ]
                        ],
                        "type": "heatmap"
                      }
                    ],
                    "heatmapgl": [
                      {
                        "colorbar": {
                          "outlinewidth": 0,
                          "ticks": ""
                        },
                        "colorscale": [
                          [
                            0,
                            "#0d0887"
                          ],
                          [
                            0.1111111111111111,
                            "#46039f"
                          ],
                          [
                            0.2222222222222222,
                            "#7201a8"
                          ],
                          [
                            0.3333333333333333,
                            "#9c179e"
                          ],
                          [
                            0.4444444444444444,
                            "#bd3786"
                          ],
                          [
                            0.5555555555555556,
                            "#d8576b"
                          ],
                          [
                            0.6666666666666666,
                            "#ed7953"
                          ],
                          [
                            0.7777777777777778,
                            "#fb9f3a"
                          ],
                          [
                            0.8888888888888888,
                            "#fdca26"
                          ],
                          [
                            1,
                            "#f0f921"
                          ]
                        ],
                        "type": "heatmapgl"
                      }
                    ],
                    "histogram": [
                      {
                        "marker": {
                          "pattern": {
                            "fillmode": "overlay",
                            "size": 10,
                            "solidity": 0.2
                          }
                        },
                        "type": "histogram"
                      }
                    ],
                    "histogram2d": [
                      {
                        "colorbar": {
                          "outlinewidth": 0,
                          "ticks": ""
                        },
                        "colorscale": [
                          [
                            0,
                            "#0d0887"
                          ],
                          [
                            0.1111111111111111,
                            "#46039f"
                          ],
                          [
                            0.2222222222222222,
                            "#7201a8"
                          ],
                          [
                            0.3333333333333333,
                            "#9c179e"
                          ],
                          [
                            0.4444444444444444,
                            "#bd3786"
                          ],
                          [
                            0.5555555555555556,
                            "#d8576b"
                          ],
                          [
                            0.6666666666666666,
                            "#ed7953"
                          ],
                          [
                            0.7777777777777778,
                            "#fb9f3a"
                          ],
                          [
                            0.8888888888888888,
                            "#fdca26"
                          ],
                          [
                            1,
                            "#f0f921"
                          ]
                        ],
                        "type": "histogram2d"
                      }
                    ],
                    "histogram2dcontour": [
                      {
                        "colorbar": {
                          "outlinewidth": 0,
                          "ticks": ""
                        },
                        "colorscale": [
                          [
                            0,
                            "#0d0887"
                          ],
                          [
                            0.1111111111111111,
                            "#46039f"
                          ],
                          [
                            0.2222222222222222,
                            "#7201a8"
                          ],
                          [
                            0.3333333333333333,
                            "#9c179e"
                          ],
                          [
                            0.4444444444444444,
                            "#bd3786"
                          ],
                          [
                            0.5555555555555556,
                            "#d8576b"
                          ],
                          [
                            0.6666666666666666,
                            "#ed7953"
                          ],
                          [
                            0.7777777777777778,
                            "#fb9f3a"
                          ],
                          [
                            0.8888888888888888,
                            "#fdca26"
                          ],
                          [
                            1,
                            "#f0f921"
                          ]
                        ],
                        "type": "histogram2dcontour"
                      }
                    ],
                    "mesh3d": [
                      {
                        "colorbar": {
                          "outlinewidth": 0,
                          "ticks": ""
                        },
                        "type": "mesh3d"
                      }
                    ],
                    "parcoords": [
                      {
                        "line": {
                          "colorbar": {
                            "outlinewidth": 0,
                            "ticks": ""
                          }
                        },
                        "type": "parcoords"
                      }
                    ],
                    "pie": [
                      {
                        "automargin": true,
                        "type": "pie"
                      }
                    ],
                    "scatter": [
                      {
                        "marker": {
                          "colorbar": {
                            "outlinewidth": 0,
                            "ticks": ""
                          }
                        },
                        "type": "scatter"
                      }
                    ],
                    "scatter3d": [
                      {
                        "line": {
                          "colorbar": {
                            "outlinewidth": 0,
                            "ticks": ""
                          }
                        },
                        "marker": {
                          "colorbar": {
                            "outlinewidth": 0,
                            "ticks": ""
                          }
                        },
                        "type": "scatter3d"
                      }
                    ],
                    "scattercarpet": [
                      {
                        "marker": {
                          "colorbar": {
                            "outlinewidth": 0,
                            "ticks": ""
                          }
                        },
                        "type": "scattercarpet"
                      }
                    ],
                    "scattergeo": [
                      {
                        "marker": {
                          "colorbar": {
                            "outlinewidth": 0,
                            "ticks": ""
                          }
                        },
                        "type": "scattergeo"
                      }
                    ],
                    "scattergl": [
                      {
                        "marker": {
                          "colorbar": {
                            "outlinewidth": 0,
                            "ticks": ""
                          }
                        },
                        "type": "scattergl"
                      }
                    ],
                    "scattermapbox": [
                      {
                        "marker": {
                          "colorbar": {
                            "outlinewidth": 0,
                            "ticks": ""
                          }
                        },
                        "type": "scattermapbox"
                      }
                    ],
                    "scatterpolar": [
                      {
                        "marker": {
                          "colorbar": {
                            "outlinewidth": 0,
                            "ticks": ""
                          }
                        },
                        "type": "scatterpolar"
                      }
                    ],
                    "scatterpolargl": [
                      {
                        "marker": {
                          "colorbar": {
                            "outlinewidth": 0,
                            "ticks": ""
                          }
                        },
                        "type": "scatterpolargl"
                      }
                    ],
                    "scatterternary": [
                      {
                        "marker": {
                          "colorbar": {
                            "outlinewidth": 0,
                            "ticks": ""
                          }
                        },
                        "type": "scatterternary"
                      }
                    ],
                    "surface": [
                      {
                        "colorbar": {
                          "outlinewidth": 0,
                          "ticks": ""
                        },
                        "colorscale": [
                          [
                            0,
                            "#0d0887"
                          ],
                          [
                            0.1111111111111111,
                            "#46039f"
                          ],
                          [
                            0.2222222222222222,
                            "#7201a8"
                          ],
                          [
                            0.3333333333333333,
                            "#9c179e"
                          ],
                          [
                            0.4444444444444444,
                            "#bd3786"
                          ],
                          [
                            0.5555555555555556,
                            "#d8576b"
                          ],
                          [
                            0.6666666666666666,
                            "#ed7953"
                          ],
                          [
                            0.7777777777777778,
                            "#fb9f3a"
                          ],
                          [
                            0.8888888888888888,
                            "#fdca26"
                          ],
                          [
                            1,
                            "#f0f921"
                          ]
                        ],
                        "type": "surface"
                      }
                    ],
                    "table": [
                      {
                        "cells": {
                          "fill": {
                            "color": "#EBF0F8"
                          },
                          "line": {
                            "color": "white"
                          }
                        },
                        "header": {
                          "fill": {
                            "color": "#C8D4E3"
                          },
                          "line": {
                            "color": "white"
                          }
                        },
                        "type": "table"
                      }
                    ]
                  },
                  "layout": {
                    "annotationdefaults": {
                      "arrowcolor": "#2a3f5f",
                      "arrowhead": 0,
                      "arrowwidth": 1
                    },
                    "autotypenumbers": "strict",
                    "coloraxis": {
                      "colorbar": {
                        "outlinewidth": 0,
                        "ticks": ""
                      }
                    },
                    "colorscale": {
                      "diverging": [
                        [
                          0,
                          "#8e0152"
                        ],
                        [
                          0.1,
                          "#c51b7d"
                        ],
                        [
                          0.2,
                          "#de77ae"
                        ],
                        [
                          0.3,
                          "#f1b6da"
                        ],
                        [
                          0.4,
                          "#fde0ef"
                        ],
                        [
                          0.5,
                          "#f7f7f7"
                        ],
                        [
                          0.6,
                          "#e6f5d0"
                        ],
                        [
                          0.7,
                          "#b8e186"
                        ],
                        [
                          0.8,
                          "#7fbc41"
                        ],
                        [
                          0.9,
                          "#4d9221"
                        ],
                        [
                          1,
                          "#276419"
                        ]
                      ],
                      "sequential": [
                        [
                          0,
                          "#0d0887"
                        ],
                        [
                          0.1111111111111111,
                          "#46039f"
                        ],
                        [
                          0.2222222222222222,
                          "#7201a8"
                        ],
                        [
                          0.3333333333333333,
                          "#9c179e"
                        ],
                        [
                          0.4444444444444444,
                          "#bd3786"
                        ],
                        [
                          0.5555555555555556,
                          "#d8576b"
                        ],
                        [
                          0.6666666666666666,
                          "#ed7953"
                        ],
                        [
                          0.7777777777777778,
                          "#fb9f3a"
                        ],
                        [
                          0.8888888888888888,
                          "#fdca26"
                        ],
                        [
                          1,
                          "#f0f921"
                        ]
                      ],
                      "sequentialminus": [
                        [
                          0,
                          "#0d0887"
                        ],
                        [
                          0.1111111111111111,
                          "#46039f"
                        ],
                        [
                          0.2222222222222222,
                          "#7201a8"
                        ],
                        [
                          0.3333333333333333,
                          "#9c179e"
                        ],
                        [
                          0.4444444444444444,
                          "#bd3786"
                        ],
                        [
                          0.5555555555555556,
                          "#d8576b"
                        ],
                        [
                          0.6666666666666666,
                          "#ed7953"
                        ],
                        [
                          0.7777777777777778,
                          "#fb9f3a"
                        ],
                        [
                          0.8888888888888888,
                          "#fdca26"
                        ],
                        [
                          1,
                          "#f0f921"
                        ]
                      ]
                    },
                    "colorway": [
                      "#636efa",
                      "#EF553B",
                      "#00cc96",
                      "#ab63fa",
                      "#FFA15A",
                      "#19d3f3",
                      "#FF6692",
                      "#B6E880",
                      "#FF97FF",
                      "#FECB52"
                    ],
                    "font": {
                      "color": "#2a3f5f"
                    },
                    "geo": {
                      "bgcolor": "white",
                      "lakecolor": "white",
                      "landcolor": "#E5ECF6",
                      "showlakes": true,
                      "showland": true,
                      "subunitcolor": "white"
                    },
                    "hoverlabel": {
                      "align": "left"
                    },
                    "hovermode": "closest",
                    "mapbox": {
                      "style": "light"
                    },
                    "paper_bgcolor": "white",
                    "plot_bgcolor": "#E5ECF6",
                    "polar": {
                      "angularaxis": {
                        "gridcolor": "white",
                        "linecolor": "white",
                        "ticks": ""
                      },
                      "bgcolor": "#E5ECF6",
                      "radialaxis": {
                        "gridcolor": "white",
                        "linecolor": "white",
                        "ticks": ""
                      }
                    },
                    "scene": {
                      "xaxis": {
                        "backgroundcolor": "#E5ECF6",
                        "gridcolor": "white",
                        "gridwidth": 2,
                        "linecolor": "white",
                        "showbackground": true,
                        "ticks": "",
                        "zerolinecolor": "white"
                      },
                      "yaxis": {
                        "backgroundcolor": "#E5ECF6",
                        "gridcolor": "white",
                        "gridwidth": 2,
                        "linecolor": "white",
                        "showbackground": true,
                        "ticks": "",
                        "zerolinecolor": "white"
                      },
                      "zaxis": {
                        "backgroundcolor": "#E5ECF6",
                        "gridcolor": "white",
                        "gridwidth": 2,
                        "linecolor": "white",
                        "showbackground": true,
                        "ticks": "",
                        "zerolinecolor": "white"
                      }
                    },
                    "shapedefaults": {
                      "line": {
                        "color": "#2a3f5f"
                      }
                    },
                    "ternary": {
                      "aaxis": {
                        "gridcolor": "white",
                        "linecolor": "white",
                        "ticks": ""
                      },
                      "baxis": {
                        "gridcolor": "white",
                        "linecolor": "white",
                        "ticks": ""
                      },
                      "bgcolor": "#E5ECF6",
                      "caxis": {
                        "gridcolor": "white",
                        "linecolor": "white",
                        "ticks": ""
                      }
                    },
                    "title": {
                      "x": 0.05
                    },
                    "xaxis": {
                      "automargin": true,
                      "gridcolor": "white",
                      "linecolor": "white",
                      "ticks": "",
                      "title": {
                        "standoff": 15
                      },
                      "zerolinecolor": "white",
                      "zerolinewidth": 2
                    },
                    "yaxis": {
                      "automargin": true,
                      "gridcolor": "white",
                      "linecolor": "white",
                      "ticks": "",
                      "title": {
                        "standoff": 15
                      },
                      "zerolinecolor": "white",
                      "zerolinewidth": 2
                    }
                  }
                },
                "title": {
                  "text": "PETR3.SA"
                },
                "xaxis": {
                  "anchor": "y",
                  "domain": [
                    0,
                    1
                  ],
                  "matches": "x2",
                  "rangeslider": {
                    "visible": false
                  },
                  "showticklabels": false
                },
                "xaxis2": {
                  "anchor": "y2",
                  "domain": [
                    0,
                    1
                  ]
                },
                "yaxis": {
                  "anchor": "x",
                  "domain": [
                    0.30000000000000004,
                    1
                  ],
                  "title": {
                    "text": "Preço"
                  }
                },
                "yaxis2": {
                  "anchor": "x2",
                  "domain": [
                    0,
                    0.20000000000000004
                  ]
                }
              }
            }
          },
          "metadata": {},
          "output_type": "display_data"
        },
        {
          "data": {
            "text/plain": [
              "'21/02/24, 22/02/24, 23/02/24, 07/03/24, 08/03/24, 15/03/24, 18/03/24, 04/04/24, 05/04/24, 09/04/24, 17/04/24, 23/04/24, 30/04/24, 02/05/24, '"
            ]
          },
          "metadata": {},
          "output_type": "display_data"
        }
      ],
      "source": [
        "def plota_candlestick_acha_martelos(\n",
        "    acao,\n",
        "    periodo = \"21d\",\n",
        "    intervalo = \"1d\",\n",
        "    taxa_máxima_para_ser_martelo = 0.2,\n",
        "    display_tabela_martelo = True,\n",
        "    display_candlestick = True,\n",
        "\n",
        "  ):\n",
        "\n",
        "  bd_acao = yf.Ticker(acao).history(\n",
        "      period = periodo,\n",
        "      interval = intervalo\n",
        "  )\n",
        "  bd_acao[\"Amplitude Open-Close\"] = abs(bd_acao[\"Open\"] - bd_acao[\"Close\"])\n",
        "  bd_acao[\"Amplitude High-Low\"] = abs(bd_acao[\"High\"] - bd_acao[\"Low\"])\n",
        "\n",
        "  # taxa_máxima_para_ser_martelo = 0.2\n",
        "  bd_acao[\"Martelo?\"] = (bd_acao[\"Amplitude Open-Close\"] < taxa_máxima_para_ser_martelo * bd_acao[\"Amplitude High-Low\"])\n",
        "\n",
        "  lista_datas_martelo = bd_acao[bd_acao[\"Martelo?\"] == True].sort_index(ascending = False).index.to_pydatetime()\n",
        "  string_datas_martelo = \"\"\n",
        "  for data in lista_datas_martelo:\n",
        "    string_datas_martelo = data.strftime(\"%d/%m/%y\") + \", \" + string_datas_martelo\n",
        "\n",
        "  # string_datas_martelo[:-2]\n",
        "\n",
        "\n",
        "  if display_tabela_martelo == True:\n",
        "    display(bd_acao[bd_acao[\"Martelo?\"] == True])\n",
        "\n",
        "  if display_candlestick == True:\n",
        "    candle_plot(\n",
        "    bd_acao,\n",
        "    volume = True,\n",
        "    # mav = np.nan,\n",
        "    # colors = [\"orange\", \"yellow\", \"blue\"],\n",
        "    titulo = acao,\n",
        "    )\n",
        "\n",
        "  return [bd_acao, string_datas_martelo]\n",
        "\n",
        "[_, string_datas_martelo] = plota_candlestick_acha_martelos(\n",
        "    acao =  \"PETR3\" + \".SA\",\n",
        "    periodo = \"60d\",\n",
        "    intervalo = \"1d\",\n",
        "    taxa_máxima_para_ser_martelo = 0.2,\n",
        "    display_tabela_martelo = True,\n",
        "    display_candlestick = True,\n",
        "  );\n",
        "\n",
        "display(string_datas_martelo)"
      ]
    },
    {
      "cell_type": "markdown",
      "metadata": {
        "id": "Zx9_R7HHg4oF"
      },
      "source": [
        "# Detecta 2 inclinações (alfas) e martelos de cada ação no maior período"
      ]
    },
    {
      "cell_type": "code",
      "execution_count": null,
      "metadata": {
        "id": "QxWPWjBOg8Ud"
      },
      "outputs": [],
      "source": [
        "# qtd_dias = int(np.round(55/7*5))\n",
        "# bd_acao = yf.Ticker(bd_lista_acoes_tratada.index[0] + \".SA\").history(\n",
        "#     # period = \"30d\",\n",
        "#     start = datetime.today() - timedelta(days=qtd_dias),\n",
        "#     end = datetime.today(),\n",
        "#     interval = \"1d\"\n",
        "# )\n",
        "# bd_acao.index = bd_acao.index.tz_localize(None)\n",
        "# # bd_acao.index.name\n",
        "\n",
        "# [_, _, _, modelo_linear, _] = criar_regressao_bd_acao(\n",
        "#   bd_acao,\n",
        "#   coluna = \"Close\",\n",
        "#   print_variaveis = True,\n",
        "#   plot_grafico = True,\n",
        "#   titulo = bd_lista_acoes_tratada.index[0] + \" (fechamento dos últimos \" + str(qtd_dias) + \" dias)\",\n",
        "#   tamanho_figsize = (15, 6),\n",
        "#   # rotacao = 60,\n",
        "#   # var_pular_final_de_semana_feriados = True,\n",
        "# )"
      ]
    },
    {
      "cell_type": "code",
      "execution_count": null,
      "metadata": {
        "colab": {
          "base_uri": "https://localhost:8080/",
          "height": 1000
        },
        "id": "nUmlpdbCltl1",
        "outputId": "f4a6de40-b3f9-46e3-88c1-8211f73c4664"
      },
      "outputs": [
        {
          "data": {
            "text/html": [
              "<div>\n",
              "<style scoped>\n",
              "    .dataframe tbody tr th:only-of-type {\n",
              "        vertical-align: middle;\n",
              "    }\n",
              "\n",
              "    .dataframe tbody tr th {\n",
              "        vertical-align: top;\n",
              "    }\n",
              "\n",
              "    .dataframe thead th {\n",
              "        text-align: right;\n",
              "    }\n",
              "</style>\n",
              "<table border=\"1\" class=\"dataframe\">\n",
              "  <thead>\n",
              "    <tr style=\"text-align: right;\">\n",
              "      <th></th>\n",
              "      <th>Nome da Empresa</th>\n",
              "      <th>Volume no último dia útil (lido em 05/05/2024)</th>\n",
              "      <th>Market Cap</th>\n",
              "      <th>Alfa (15 dias)</th>\n",
              "      <th>Preço Close há 15 dias</th>\n",
              "      <th>Preço HLC em 05/05/2024</th>\n",
              "      <th>Preço HLC há 15 dias</th>\n",
              "      <th>Alfa (39 dias)</th>\n",
              "      <th>Preço Close há 39 dias</th>\n",
              "      <th>Preço HLC há 39 dias</th>\n",
              "      <th>Datas dos martelos</th>\n",
              "    </tr>\n",
              "    <tr>\n",
              "      <th>Ticker</th>\n",
              "      <th></th>\n",
              "      <th></th>\n",
              "      <th></th>\n",
              "      <th></th>\n",
              "      <th></th>\n",
              "      <th></th>\n",
              "      <th></th>\n",
              "      <th></th>\n",
              "      <th></th>\n",
              "      <th></th>\n",
              "      <th></th>\n",
              "    </tr>\n",
              "  </thead>\n",
              "  <tbody>\n",
              "    <tr>\n",
              "      <th>MGLU3</th>\n",
              "      <td>Magazine Luiza</td>\n",
              "      <td>173204700</td>\n",
              "      <td>11,516,200,960.00</td>\n",
              "      <td>-0.01</td>\n",
              "      <td>1.66</td>\n",
              "      <td>1.55</td>\n",
              "      <td>1.68</td>\n",
              "      <td>-0.02</td>\n",
              "      <td>1.82</td>\n",
              "      <td>1.79</td>\n",
              "      <td>12/03/24, 13/03/24, 25/03/24, 28/03/24, 10/04/...</td>\n",
              "    </tr>\n",
              "    <tr>\n",
              "      <th>B3SA3</th>\n",
              "      <td>B3</td>\n",
              "      <td>90899800</td>\n",
              "      <td>63,458,705,408.00</td>\n",
              "      <td>-0.04</td>\n",
              "      <td>11.71</td>\n",
              "      <td>11.42</td>\n",
              "      <td>11.80</td>\n",
              "      <td>-0.05</td>\n",
              "      <td>12.02</td>\n",
              "      <td>11.94</td>\n",
              "      <td>13/03/24, 18/03/24, 26/03/24, 28/03/24, 04/04/...</td>\n",
              "    </tr>\n",
              "    <tr>\n",
              "      <th>BBDC4</th>\n",
              "      <td>Banco Bradesco</td>\n",
              "      <td>61128700</td>\n",
              "      <td>139,477,024,768.00</td>\n",
              "      <td>-0.01</td>\n",
              "      <td>14.19</td>\n",
              "      <td>13.84</td>\n",
              "      <td>14.22</td>\n",
              "      <td>-0.03</td>\n",
              "      <td>14.32</td>\n",
              "      <td>14.24</td>\n",
              "      <td>18/03/24, 25/03/24, 04/04/24, 11/04/24, 16/04/...</td>\n",
              "    </tr>\n",
              "    <tr>\n",
              "      <th>HAPV3</th>\n",
              "      <td>Hapvida</td>\n",
              "      <td>49296700</td>\n",
              "      <td>28,852,860,928.00</td>\n",
              "      <td>0.01</td>\n",
              "      <td>3.88</td>\n",
              "      <td>3.85</td>\n",
              "      <td>3.89</td>\n",
              "      <td>-0.01</td>\n",
              "      <td>3.76</td>\n",
              "      <td>3.75</td>\n",
              "      <td>11/03/24, 13/03/24, 14/03/24, 18/03/24, 22/03/...</td>\n",
              "    </tr>\n",
              "    <tr>\n",
              "      <th>PETR4</th>\n",
              "      <td>Petrobras</td>\n",
              "      <td>45092300</td>\n",
              "      <td>530,728,484,864.00</td>\n",
              "      <td>0.31</td>\n",
              "      <td>36.31</td>\n",
              "      <td>40.01</td>\n",
              "      <td>36.58</td>\n",
              "      <td>0.24</td>\n",
              "      <td>34.08</td>\n",
              "      <td>33.98</td>\n",
              "      <td>11/03/24, 15/03/24, 18/03/24, 22/03/24, 05/04/...</td>\n",
              "    </tr>\n",
              "    <tr>\n",
              "      <th>...</th>\n",
              "      <td>...</td>\n",
              "      <td>...</td>\n",
              "      <td>...</td>\n",
              "      <td>...</td>\n",
              "      <td>...</td>\n",
              "      <td>...</td>\n",
              "      <td>...</td>\n",
              "      <td>...</td>\n",
              "      <td>...</td>\n",
              "      <td>...</td>\n",
              "      <td>...</td>\n",
              "    </tr>\n",
              "    <tr>\n",
              "      <th>JFEN3</th>\n",
              "      <td>João Fortes</td>\n",
              "      <td>26900</td>\n",
              "      <td>376,952,224.00</td>\n",
              "      <td>-0.02</td>\n",
              "      <td>1.80</td>\n",
              "      <td>1.55</td>\n",
              "      <td>1.82</td>\n",
              "      <td>-0.03</td>\n",
              "      <td>2.69</td>\n",
              "      <td>2.39</td>\n",
              "      <td>14/03/24, 25/03/24, 10/04/24</td>\n",
              "    </tr>\n",
              "    <tr>\n",
              "      <th>INEP4</th>\n",
              "      <td>Inepar</td>\n",
              "      <td>26300</td>\n",
              "      <td>143,151,440.00</td>\n",
              "      <td>-0.01</td>\n",
              "      <td>3.04</td>\n",
              "      <td>3.00</td>\n",
              "      <td>3.11</td>\n",
              "      <td>0.00</td>\n",
              "      <td>2.73</td>\n",
              "      <td>2.71</td>\n",
              "      <td>08/03/24, 26/03/24, 01/04/24, 03/04/24, 04/04/...</td>\n",
              "    </tr>\n",
              "    <tr>\n",
              "      <th>COCE5</th>\n",
              "      <td>Coelce</td>\n",
              "      <td>23100</td>\n",
              "      <td>3,454,238,720.00</td>\n",
              "      <td>0.07</td>\n",
              "      <td>33.86</td>\n",
              "      <td>35.16</td>\n",
              "      <td>33.88</td>\n",
              "      <td>-0.03</td>\n",
              "      <td>35.87</td>\n",
              "      <td>36.15</td>\n",
              "      <td>08/03/24, 12/03/24, 19/03/24, 22/03/24, 26/03/...</td>\n",
              "    </tr>\n",
              "    <tr>\n",
              "      <th>ALUP4</th>\n",
              "      <td>Alupar</td>\n",
              "      <td>22900</td>\n",
              "      <td>9,181,419,520.00</td>\n",
              "      <td>0.02</td>\n",
              "      <td>9.28</td>\n",
              "      <td>9.64</td>\n",
              "      <td>9.27</td>\n",
              "      <td>-0.01</td>\n",
              "      <td>9.62</td>\n",
              "      <td>9.58</td>\n",
              "      <td>12/03/24, 20/03/24, 02/04/24, 03/04/24, 04/04/...</td>\n",
              "    </tr>\n",
              "    <tr>\n",
              "      <th>RPAD3</th>\n",
              "      <td>Alfa Holdings</td>\n",
              "      <td>1818600</td>\n",
              "      <td>790,095,808.00</td>\n",
              "      <td>0.08</td>\n",
              "      <td>8.43</td>\n",
              "      <td>9.56</td>\n",
              "      <td>8.43</td>\n",
              "      <td>0.03</td>\n",
              "      <td>8.40</td>\n",
              "      <td>8.40</td>\n",
              "      <td>30/04/24</td>\n",
              "    </tr>\n",
              "  </tbody>\n",
              "</table>\n",
              "<p>259 rows × 11 columns</p>\n",
              "</div>"
            ],
            "text/plain": [
              "       Nome da Empresa  Volume no último dia útil (lido em 05/05/2024)  \\\n",
              "Ticker                                                                   \n",
              "MGLU3   Magazine Luiza                                       173204700   \n",
              "B3SA3               B3                                        90899800   \n",
              "BBDC4   Banco Bradesco                                        61128700   \n",
              "HAPV3          Hapvida                                        49296700   \n",
              "PETR4        Petrobras                                        45092300   \n",
              "...                ...                                             ...   \n",
              "JFEN3      João Fortes                                           26900   \n",
              "INEP4           Inepar                                           26300   \n",
              "COCE5           Coelce                                           23100   \n",
              "ALUP4           Alupar                                           22900   \n",
              "RPAD3    Alfa Holdings                                         1818600   \n",
              "\n",
              "               Market Cap  Alfa (15 dias)  Preço Close há 15 dias  \\\n",
              "Ticker                                                              \n",
              "MGLU3   11,516,200,960.00           -0.01                    1.66   \n",
              "B3SA3   63,458,705,408.00           -0.04                   11.71   \n",
              "BBDC4  139,477,024,768.00           -0.01                   14.19   \n",
              "HAPV3   28,852,860,928.00            0.01                    3.88   \n",
              "PETR4  530,728,484,864.00            0.31                   36.31   \n",
              "...                   ...             ...                     ...   \n",
              "JFEN3      376,952,224.00           -0.02                    1.80   \n",
              "INEP4      143,151,440.00           -0.01                    3.04   \n",
              "COCE5    3,454,238,720.00            0.07                   33.86   \n",
              "ALUP4    9,181,419,520.00            0.02                    9.28   \n",
              "RPAD3      790,095,808.00            0.08                    8.43   \n",
              "\n",
              "        Preço HLC em 05/05/2024  Preço HLC há 15 dias  Alfa (39 dias)  \\\n",
              "Ticker                                                                  \n",
              "MGLU3                      1.55                  1.68           -0.02   \n",
              "B3SA3                     11.42                 11.80           -0.05   \n",
              "BBDC4                     13.84                 14.22           -0.03   \n",
              "HAPV3                      3.85                  3.89           -0.01   \n",
              "PETR4                     40.01                 36.58            0.24   \n",
              "...                         ...                   ...             ...   \n",
              "JFEN3                      1.55                  1.82           -0.03   \n",
              "INEP4                      3.00                  3.11            0.00   \n",
              "COCE5                     35.16                 33.88           -0.03   \n",
              "ALUP4                      9.64                  9.27           -0.01   \n",
              "RPAD3                      9.56                  8.43            0.03   \n",
              "\n",
              "        Preço Close há 39 dias  Preço HLC há 39 dias  \\\n",
              "Ticker                                                 \n",
              "MGLU3                     1.82                  1.79   \n",
              "B3SA3                    12.02                 11.94   \n",
              "BBDC4                    14.32                 14.24   \n",
              "HAPV3                     3.76                  3.75   \n",
              "PETR4                    34.08                 33.98   \n",
              "...                        ...                   ...   \n",
              "JFEN3                     2.69                  2.39   \n",
              "INEP4                     2.73                  2.71   \n",
              "COCE5                    35.87                 36.15   \n",
              "ALUP4                     9.62                  9.58   \n",
              "RPAD3                     8.40                  8.40   \n",
              "\n",
              "                                       Datas dos martelos  \n",
              "Ticker                                                     \n",
              "MGLU3   12/03/24, 13/03/24, 25/03/24, 28/03/24, 10/04/...  \n",
              "B3SA3   13/03/24, 18/03/24, 26/03/24, 28/03/24, 04/04/...  \n",
              "BBDC4   18/03/24, 25/03/24, 04/04/24, 11/04/24, 16/04/...  \n",
              "HAPV3   11/03/24, 13/03/24, 14/03/24, 18/03/24, 22/03/...  \n",
              "PETR4   11/03/24, 15/03/24, 18/03/24, 22/03/24, 05/04/...  \n",
              "...                                                   ...  \n",
              "JFEN3                        14/03/24, 25/03/24, 10/04/24  \n",
              "INEP4   08/03/24, 26/03/24, 01/04/24, 03/04/24, 04/04/...  \n",
              "COCE5   08/03/24, 12/03/24, 19/03/24, 22/03/24, 26/03/...  \n",
              "ALUP4   12/03/24, 20/03/24, 02/04/24, 03/04/24, 04/04/...  \n",
              "RPAD3                                            30/04/24  \n",
              "\n",
              "[259 rows x 11 columns]"
            ]
          },
          "execution_count": 32,
          "metadata": {},
          "output_type": "execute_result"
        }
      ],
      "source": [
        "if ler_dados_da_pasta == False:\n",
        "\n",
        "  bd_lista_acoes_analise = bd_lista_acoes_tratada.copy()\n",
        "\n",
        "  coluna_analise = \"HLC\"\n",
        "\n",
        "  qtd_dias_maximo = int(np.round(55/7*5))\n",
        "  qtd_dias_minimo = int(np.round(21/7*5))\n",
        "  for acao in bd_lista_acoes_tratada.index:#[[0]]:\n",
        "    # print(acao)\n",
        "\n",
        "    bd_acao = yf.Ticker(acao + \".SA\").history(\n",
        "        start = datetime.today() - timedelta(days=qtd_dias_maximo),\n",
        "        end = datetime.today(),\n",
        "        interval = \"1d\"\n",
        "    )\n",
        "    bd_acao.index = bd_acao.index.tz_localize(None)\n",
        "    bd_acao[coluna_analise] = (bd_acao[\"High\"] + bd_acao[\"Low\"] + bd_acao[\"Close\"])/3\n",
        "\n",
        "    bd_acao_minimo = bd_acao.iloc[-(qtd_dias_minimo):].copy()\n",
        "\n",
        "    [_, _, _, modelo_linear, _] = criar_regressao_bd_acao(\n",
        "      bd_acao_minimo,\n",
        "      coluna = coluna_analise,\n",
        "      print_variaveis = False,\n",
        "      plot_grafico = False,\n",
        "      # titulo = acao + \" (fechamento dos últimos \" + str(qtd_dias_minimo) + \" dias)\",\n",
        "      # tamanho_figsize = (15, 6),\n",
        "      # rotacao = 60,\n",
        "    )\n",
        "\n",
        "    bd_lista_acoes_analise.loc[acao, \"Alfa (\" + str(qtd_dias_minimo) +\" dias)\"] = modelo_linear.coef_[0][0]\n",
        "    bd_lista_acoes_analise.loc[acao, \"Preço Close há \" + str(qtd_dias_minimo) +\" dias\"] = bd_acao_minimo.iloc[0][\"Close\"]\n",
        "    # bd_lista_acoes_analise[\"Taxa média de Remuneração (R$)\"] = bd_lista_acoes_analise[\"Preço fechamento (R$)\"]*bd_lista_acoes_analise[\"Alfa\"]\n",
        "    # bd_lista_acoes_analise[\"Taxa média de Remuneração (pp/R$, \" + str(qtd_dias_minimo) +\" dias)\"] = \\\n",
        "      # bd_lista_acoes_analise[\"Alfa (\" + str(qtd_dias_minimo) +\" dias)\"]/bd_lista_acoes_analise[\"Preço fechamento (R$, \" + str(qtd_dias_minimo) +\" dias)\"]\n",
        "    bd_lista_acoes_analise.loc[acao, \"Preço HLC em \"+ datetime.now().strftime(\"%d/%m/%Y\")] = \\\n",
        "     (bd_acao_minimo.iloc[len(bd_acao_minimo)-1].loc[\"High\"]+bd_acao_minimo.iloc[len(bd_acao_minimo)-1].loc[\"Low\"]+bd_acao_minimo.iloc[len(bd_acao_minimo)-1].loc[\"Close\"])/3\n",
        "    bd_lista_acoes_analise.loc[acao, \"Preço HLC há \"+ str(qtd_dias_minimo) +\" dias\"] = \\\n",
        "     (bd_acao_minimo.iloc[0].loc[\"High\"]+bd_acao_minimo.iloc[0].loc[\"Low\"]+bd_acao_minimo.iloc[0].loc[\"Close\"])/3\n",
        "\n",
        "\n",
        "    [_, _, _, modelo_linear, _] = criar_regressao_bd_acao(\n",
        "      bd_acao,\n",
        "      coluna = coluna_analise,\n",
        "      print_variaveis = False,\n",
        "      plot_grafico = False,\n",
        "      # titulo = acao + \" (fechamento dos últimos \" + str(qtd_dias_maximo) + \" dias)\",\n",
        "      # tamanho_figsize = (15, 6),\n",
        "      # rotacao = 60,\n",
        "    )\n",
        "\n",
        "    bd_lista_acoes_analise.loc[acao, \"Alfa (\" + str(qtd_dias_maximo) +\" dias)\"] = modelo_linear.coef_[0][0]\n",
        "    bd_lista_acoes_analise.loc[acao, \"Preço Close há \" + str(qtd_dias_maximo) +\" dias\"] = bd_acao.iloc[0][\"Close\"]\n",
        "    # bd_lista_acoes_analise[\"Taxa média de Remuneração (R$)\"] = bd_lista_acoes_analise[\"Preço fechamento (R$)\"]*bd_lista_acoes_analise[\"Alfa\"]\n",
        "    # bd_lista_acoes_analise[\"Taxa média de Remuneração (pp/R$, \" + str(qtd_dias_maximo) +\" dias)\"] = \\\n",
        "      # bd_lista_acoes_analise[\"Alfa (\" + str(qtd_dias_maximo) +\" dias)\"]/bd_lista_acoes_analise[\"Preço fechamento (R$, \" + str(qtd_dias_maximo) +\" dias)\"]\n",
        "    bd_lista_acoes_analise.loc[acao, \"Preço HLC há \"+ str(qtd_dias_maximo) +\" dias\"] = \\\n",
        "     (bd_acao.iloc[0].loc[\"High\"]+bd_acao.iloc[0].loc[\"Low\"]+bd_acao.iloc[0].loc[\"Close\"])/3\n",
        "    # bd_lista_acoes_analise\n",
        "\n",
        "\n",
        "    [_, string_datas_martelo] = plota_candlestick_acha_martelos(\n",
        "      acao =  acao + \".SA\",\n",
        "      periodo = str(qtd_dias_maximo)+\"d\",\n",
        "      intervalo = \"1d\",\n",
        "      taxa_máxima_para_ser_martelo = 0.2,\n",
        "      display_tabela_martelo = False,\n",
        "      display_candlestick = False,\n",
        "    )\n",
        "    # display(string_datas_martelo)\n",
        "    bd_lista_acoes_analise.loc[acao, \"Datas dos martelos\"] = string_datas_martelo[:-2]\n",
        "\n",
        "\n",
        "  bd_lista_acoes_analise.to_excel(caminho_da_pasta + 'Bases/Lista de ações Análise ' + datetime.today().strftime(\"%Y-%m-%d\") + '.xlsx') #  2024-03-30\n",
        "\n",
        "elif ler_dados_da_pasta == True:\n",
        "  bd_lista_acoes_analise = \"Não dá dados para ler\"\n",
        "  # bd_lista_acoes_analise = pd.read_excel(\n",
        "  #   caminho_da_pasta + 'Bases/Lista de ações Análise.xlsx',\n",
        "  #   # encoding = 'ISO-8859-1',\n",
        "  #   # low_memory=False,\n",
        "  #   index_col = 0\n",
        "  # )\n",
        "\n",
        "bd_lista_acoes_analise"
      ]
    },
    {
      "cell_type": "markdown",
      "metadata": {
        "id": "-RxFxMV7nFE8"
      },
      "source": [
        "## Plota as 5 melhores ações do período (comentado)"
      ]
    },
    {
      "cell_type": "code",
      "execution_count": null,
      "metadata": {
        "id": "RM3fRflGnIg-"
      },
      "outputs": [],
      "source": [
        "# qtd_dias = 60\n",
        "\n",
        "# display(bd_lista_acoes_analise.sort_values(\"Taxa média de Remuneração (pp/R$)\", ascending = False).head(5))\n",
        "\n",
        "# for acao in bd_lista_acoes_analise.sort_values(\"Taxa média de Remuneração (pp/R$)\", ascending = False).head(5).index:\n",
        "#   # print(acao)\n",
        "\n",
        "#   bd_acao = yf.Ticker(acao + \".SA\").history(\n",
        "#       start = datetime.today() - timedelta(days=qtd_dias),\n",
        "#       end = datetime.today(),\n",
        "#       interval = \"1d\"\n",
        "#   )\n",
        "#   bd_acao.index = bd_acao.index.tz_localize(None)\n",
        "\n",
        "#   [bd_acao_regressao, media, margem, modelo_linear, valor_fechamento] = criar_regressao_bd_acao(\n",
        "#     bd_acao,\n",
        "#     coluna = \"Close\",\n",
        "#     print_variaveis = True,\n",
        "#     plot_grafico = True,\n",
        "#     titulo = acao + \" (fechamento dos últimos \" + str(qtd_dias) + \" dias)\",\n",
        "#     tamanho_figsize = (15, 6),\n",
        "#     # rotacao = 60,\n",
        "#   )"
      ]
    },
    {
      "cell_type": "markdown",
      "metadata": {
        "id": "BK9rNXPnRNa2"
      },
      "source": [
        "# Dashes interativos\n",
        "\n",
        "https://colab.research.google.com/drive/1_PsF37NIy30E-Rwa0hJ4QM_Rk8XAFas9#scrollTo=wudZHwxd8sR5"
      ]
    },
    {
      "cell_type": "markdown",
      "metadata": {
        "id": "NZvSXhxpKQ1n"
      },
      "source": [
        "# TO-DO"
      ]
    },
    {
      "cell_type": "markdown",
      "metadata": {
        "id": "04miCHHOKQ1n"
      },
      "source": [
        "- [] Ajustar alfas para 13 e 55 dias\n",
        "- [] Adicionar coluna de %13d e %55d, que é o Preço/Alfa\n",
        "- [] Ordenar por essa coluna de %média\n",
        "- [] Ele falou que um bom momento é quando o preço está voltando para a média móvel, pois é sinal que voltará a subir\n",
        "    - Exemplo é CEMIG (CMIG4)\n",
        "- [] Revisar se meu cálculo de martelo está ok ou não."
      ]
    },
    {
      "cell_type": "markdown",
      "metadata": {
        "id": "9XUr8kjFmiS1"
      },
      "source": [
        "## Concluídos"
      ]
    },
    {
      "cell_type": "markdown",
      "metadata": {
        "id": "SNIIN1oTmjhb"
      },
      "source": [
        "- [X] Adicionar uma visão só com o fechamento\n",
        "- [X] Comparar a inclinação da curva (alfa) de várias ações. Os que tem maiores alfas crescem mais\n",
        "- [X] Entender como o valor se comporta nos finais de semana e feriados (saltos) -> _coloquei uma opção na função de plot para ignorar finais de semana e feriados_\n",
        "- [X] Entender pq visualmente parece que a faixa de desvio padrão fica variando ao longo do período -> _não era só visual, a faixa estava mudando pq eu multiplicada a regressão pelo % de desvio/média. Mas é só eu somar o desvio padrão à regressão que ele fica estável ao longo da curca de regressão. Já ajustado na função que plota_\n",
        "- [] ~~Quando troca a taxa de remuneração para (alfa/último preço), fica muito estranho, pois ações de baixo preço ficarão com uma taxa altíssima. É isso mesmo?~~"
      ]
    }
  ],
  "metadata": {
    "colab": {
      "include_colab_link": true,
      "provenance": [],
      "toc_visible": true
    },
    "kernelspec": {
      "display_name": "Python 3.10.2 64-bit",
      "language": "python",
      "name": "python3"
    },
    "language_info": {
      "codemirror_mode": {
        "name": "ipython",
        "version": 3
      },
      "file_extension": ".py",
      "mimetype": "text/x-python",
      "name": "python",
      "nbconvert_exporter": "python",
      "pygments_lexer": "ipython3",
      "version": "3.12.0"
    },
    "orig_nbformat": 4,
    "vscode": {
      "interpreter": {
        "hash": "26de051ba29f2982a8de78e945f0abaf191376122a1563185a90213a26c5da77"
      }
    }
  },
  "nbformat": 4,
  "nbformat_minor": 0
}
